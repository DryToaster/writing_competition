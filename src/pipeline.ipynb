{
 "cells": [
  {
   "cell_type": "markdown",
   "metadata": {},
   "source": [
    "# CS 5665 - Introduction to Data Science"
   ]
  },
  {
   "cell_type": "markdown",
   "metadata": {},
   "source": [
    "## Preprocessing"
   ]
  },
  {
   "cell_type": "markdown",
   "metadata": {},
   "source": [
    "The data used in this project is from [this](https://www.kaggle.com/c/linking-writing-processes-to-writing-quality). "
   ]
  },
  {
   "cell_type": "markdown",
   "metadata": {},
   "source": [
    "### Introducing the dataset and packages"
   ]
  },
  {
   "cell_type": "code",
<<<<<<< HEAD
   "execution_count": 130,
=======
   "execution_count": 3,
>>>>>>> 8a8e7b9818e94b6e2cba9315de1c09d94e40e689
   "metadata": {},
   "outputs": [],
   "source": [
    "# Import packages\n",
    "import matplotlib.pyplot as plt\n",
    "import numpy as np\n",
    "import pandas as pd\n",
    "from sklearn.compose import ColumnTransformer, make_column_transformer\n",
    "from sklearn.dummy import DummyClassifier\n",
<<<<<<< HEAD
    "from sklearn.model_selection import train_test_split\n",
    "from sklearn.preprocessing import StandardScaler\n",
    "from sklearn.linear_model import LinearRegression\n",
    "from sklearn.ensemble import RandomForestRegressor"
=======
    "from sklearn.impute import SimpleImputer\n",
    "from sklearn.model_selection import cross_val_score, cross_validate, train_test_split\n",
    "from sklearn.neighbors import KNeighborsClassifier\n",
    "from sklearn.pipeline import Pipeline, make_pipeline\n",
    "from sklearn.preprocessing import OneHotEncoder, StandardScaler, OrdinalEncoder\n",
    "from sklearn.svm import SVC\n",
    "from sklearn.tree import DecisionTreeClassifier"
>>>>>>> 8a8e7b9818e94b6e2cba9315de1c09d94e40e689
   ]
  },
  {
   "cell_type": "code",
<<<<<<< HEAD
   "execution_count": 131,
=======
   "execution_count": 4,
>>>>>>> 8a8e7b9818e94b6e2cba9315de1c09d94e40e689
   "metadata": {},
   "outputs": [],
   "source": [
    "# Import dataset\n",
    "train_df = pd.read_csv('../data/train_logs.csv')\n",
    "train_scores = pd.read_csv('../data/train_scores.csv')\n",
    "test_logs = pd.read_csv('../data/test_logs.csv')"
   ]
  },
  {
   "cell_type": "code",
<<<<<<< HEAD
   "execution_count": 132,
   "metadata": {},
   "outputs": [
    {
     "name": "stderr",
     "output_type": "stream",
     "text": [
      "C:\\Users\\sarad\\AppData\\Local\\Temp\\ipykernel_28744\\346297437.py:1: FutureWarning: The default value of numeric_only in DataFrameGroupBy.sum is deprecated. In a future version, numeric_only will default to False. Either specify numeric_only or select only columns which should be valid for the function.\n",
      "  cleaned_train = train_df.drop(columns=['cursor_position','down_event', 'up_event','text_change']).groupby('id').sum()\n",
      "C:\\Users\\sarad\\AppData\\Local\\Temp\\ipykernel_28744\\346297437.py:4: FutureWarning: The default value of numeric_only in DataFrameGroupBy.sum is deprecated. In a future version, numeric_only will default to False. Either specify numeric_only or select only columns which should be valid for the function.\n",
      "  cleaned_prediction_test = test_logs.drop(columns=['cursor_position','down_event', 'up_event','text_change']).groupby('id').sum().reset_index()\n"
     ]
    }
   ],
   "source": [
    "cleaned_train = train_df.drop(columns=['cursor_position','down_event', 'up_event','text_change']).groupby('id').sum()\n",
    "cleaned_train = cleaned_train.merge(train_scores, on='id')\n",
    "\n",
    "cleaned_prediction_test = test_logs.drop(columns=['cursor_position','down_event', 'up_event','text_change']).groupby('id').sum().reset_index()"
   ]
  },
  {
   "cell_type": "markdown",
   "metadata": {},
   "source": [
    "### Preprocessing\n",
    "\n"
   ]
  },
  {
   "cell_type": "code",
   "execution_count": 133,
   "metadata": {},
   "outputs": [
    {
     "name": "stdout",
     "output_type": "stream",
     "text": [
      "<class 'pandas.core.frame.DataFrame'>\n",
      "Int64Index: 2471 entries, 0 to 2470\n",
      "Data columns (total 7 columns):\n",
      " #   Column       Non-Null Count  Dtype  \n",
      "---  ------       --------------  -----  \n",
      " 0   id           2471 non-null   object \n",
      " 1   event_id     2471 non-null   int64  \n",
      " 2   down_time    2471 non-null   int64  \n",
      " 3   up_time      2471 non-null   int64  \n",
      " 4   action_time  2471 non-null   int64  \n",
      " 5   word_count   2471 non-null   int64  \n",
      " 6   score        2471 non-null   float64\n",
      "dtypes: float64(1), int64(5), object(1)\n",
      "memory usage: 154.4+ KB\n"
     ]
    },
    {
     "data": {
      "text/plain": [
       "id               2471\n",
       "event_id       2471.0\n",
       "down_time      2471.0\n",
       "up_time        2471.0\n",
       "action_time    2471.0\n",
       "word_count     2471.0\n",
       "score          2471.0\n",
       "Name: count, dtype: object"
      ]
     },
     "execution_count": 133,
     "metadata": {},
     "output_type": "execute_result"
    }
   ],
   "source": [
    "# Identify numeric feature statistics\n",
    "cleaned_train.info()\n",
    "cleaned_train.describe(include='all')\n",
    "\n",
    "# Checking for missing values\n",
    "cleaned_train.describe(include=\"all\").loc['count']"
   ]
  },
  {
   "cell_type": "code",
   "execution_count": 134,
   "metadata": {},
   "outputs": [],
   "source": [
    "passthrough_variables = ['id', 'score']\n",
    "scale_variables = ['event_id', 'down_time', 'up_time', 'action_time', 'word_count']"
   ]
  },
  {
   "cell_type": "code",
   "execution_count": 135,
   "metadata": {},
   "outputs": [],
   "source": [
    "preprocessor = make_column_transformer(\n",
    "    (\"passthrough\", passthrough_variables),\n",
    "    (StandardScaler(), scale_variables)\n",
    ")"
   ]
  },
  {
   "cell_type": "code",
   "execution_count": 136,
   "metadata": {},
   "outputs": [],
   "source": [
    "transformed = preprocessor.fit_transform(cleaned_train)\n",
    "column_names = passthrough_variables + scale_variables"
   ]
  },
  {
   "cell_type": "code",
   "execution_count": 137,
=======
   "execution_count": 5,
>>>>>>> 8a8e7b9818e94b6e2cba9315de1c09d94e40e689
   "metadata": {},
   "outputs": [
    {
     "data": {
      "text/html": [
       "<div>\n",
       "<style scoped>\n",
       "    .dataframe tbody tr th:only-of-type {\n",
       "        vertical-align: middle;\n",
       "    }\n",
       "\n",
       "    .dataframe tbody tr th {\n",
       "        vertical-align: top;\n",
       "    }\n",
       "\n",
       "    .dataframe thead th {\n",
       "        text-align: right;\n",
       "    }\n",
       "</style>\n",
       "<table border=\"1\" class=\"dataframe\">\n",
       "  <thead>\n",
       "    <tr style=\"text-align: right;\">\n",
       "      <th></th>\n",
       "      <th>id</th>\n",
       "      <th>event_id</th>\n",
       "      <th>down_time</th>\n",
       "      <th>up_time</th>\n",
       "      <th>action_time</th>\n",
       "      <th>activity</th>\n",
       "      <th>down_event</th>\n",
       "      <th>up_event</th>\n",
       "      <th>text_change</th>\n",
       "      <th>cursor_position</th>\n",
       "      <th>word_count</th>\n",
       "    </tr>\n",
       "  </thead>\n",
       "  <tbody>\n",
       "    <tr>\n",
       "      <th>0</th>\n",
       "      <td>001519c8</td>\n",
       "      <td>1</td>\n",
       "      <td>4526</td>\n",
       "      <td>4557</td>\n",
       "      <td>31</td>\n",
       "      <td>Nonproduction</td>\n",
       "      <td>Leftclick</td>\n",
       "      <td>Leftclick</td>\n",
       "      <td>NoChange</td>\n",
       "      <td>0</td>\n",
       "      <td>0</td>\n",
       "    </tr>\n",
       "    <tr>\n",
       "      <th>1</th>\n",
       "      <td>001519c8</td>\n",
       "      <td>2</td>\n",
       "      <td>4558</td>\n",
       "      <td>4962</td>\n",
       "      <td>404</td>\n",
       "      <td>Nonproduction</td>\n",
       "      <td>Leftclick</td>\n",
       "      <td>Leftclick</td>\n",
       "      <td>NoChange</td>\n",
       "      <td>0</td>\n",
       "      <td>0</td>\n",
       "    </tr>\n",
       "    <tr>\n",
       "      <th>2</th>\n",
       "      <td>001519c8</td>\n",
       "      <td>3</td>\n",
       "      <td>106571</td>\n",
       "      <td>106571</td>\n",
       "      <td>0</td>\n",
       "      <td>Nonproduction</td>\n",
       "      <td>Shift</td>\n",
       "      <td>Shift</td>\n",
       "      <td>NoChange</td>\n",
       "      <td>0</td>\n",
       "      <td>0</td>\n",
       "    </tr>\n",
       "    <tr>\n",
       "      <th>3</th>\n",
       "      <td>001519c8</td>\n",
       "      <td>4</td>\n",
       "      <td>106686</td>\n",
       "      <td>106777</td>\n",
       "      <td>91</td>\n",
       "      <td>Input</td>\n",
       "      <td>q</td>\n",
       "      <td>q</td>\n",
       "      <td>q</td>\n",
       "      <td>1</td>\n",
       "      <td>1</td>\n",
       "    </tr>\n",
       "    <tr>\n",
       "      <th>4</th>\n",
       "      <td>001519c8</td>\n",
       "      <td>5</td>\n",
       "      <td>107196</td>\n",
       "      <td>107323</td>\n",
       "      <td>127</td>\n",
       "      <td>Input</td>\n",
       "      <td>q</td>\n",
       "      <td>q</td>\n",
       "      <td>q</td>\n",
       "      <td>2</td>\n",
       "      <td>1</td>\n",
       "    </tr>\n",
       "    <tr>\n",
       "      <th>5</th>\n",
       "      <td>001519c8</td>\n",
       "      <td>6</td>\n",
       "      <td>107296</td>\n",
       "      <td>107400</td>\n",
       "      <td>104</td>\n",
       "      <td>Input</td>\n",
       "      <td>q</td>\n",
       "      <td>q</td>\n",
       "      <td>q</td>\n",
       "      <td>3</td>\n",
       "      <td>1</td>\n",
       "    </tr>\n",
       "    <tr>\n",
       "      <th>6</th>\n",
       "      <td>001519c8</td>\n",
       "      <td>7</td>\n",
       "      <td>107469</td>\n",
       "      <td>107596</td>\n",
       "      <td>127</td>\n",
       "      <td>Input</td>\n",
       "      <td>q</td>\n",
       "      <td>q</td>\n",
       "      <td>q</td>\n",
       "      <td>4</td>\n",
       "      <td>1</td>\n",
       "    </tr>\n",
       "    <tr>\n",
       "      <th>7</th>\n",
       "      <td>001519c8</td>\n",
       "      <td>8</td>\n",
       "      <td>107659</td>\n",
       "      <td>107766</td>\n",
       "      <td>107</td>\n",
       "      <td>Input</td>\n",
       "      <td>q</td>\n",
       "      <td>q</td>\n",
       "      <td>q</td>\n",
       "      <td>5</td>\n",
       "      <td>1</td>\n",
       "    </tr>\n",
       "    <tr>\n",
       "      <th>8</th>\n",
       "      <td>001519c8</td>\n",
       "      <td>9</td>\n",
       "      <td>107743</td>\n",
       "      <td>107852</td>\n",
       "      <td>109</td>\n",
       "      <td>Input</td>\n",
       "      <td>q</td>\n",
       "      <td>q</td>\n",
       "      <td>q</td>\n",
       "      <td>6</td>\n",
       "      <td>1</td>\n",
       "    </tr>\n",
       "    <tr>\n",
       "      <th>9</th>\n",
       "      <td>001519c8</td>\n",
       "      <td>10</td>\n",
       "      <td>107840</td>\n",
       "      <td>107978</td>\n",
       "      <td>138</td>\n",
       "      <td>Input</td>\n",
       "      <td>Space</td>\n",
       "      <td>Space</td>\n",
       "      <td></td>\n",
       "      <td>7</td>\n",
       "      <td>1</td>\n",
       "    </tr>\n",
       "  </tbody>\n",
       "</table>\n",
       "</div>"
      ],
      "text/plain": [
       "         id  event_id  down_time  up_time  action_time       activity  \\\n",
       "0  001519c8         1       4526     4557           31  Nonproduction   \n",
       "1  001519c8         2       4558     4962          404  Nonproduction   \n",
       "2  001519c8         3     106571   106571            0  Nonproduction   \n",
       "3  001519c8         4     106686   106777           91          Input   \n",
       "4  001519c8         5     107196   107323          127          Input   \n",
       "5  001519c8         6     107296   107400          104          Input   \n",
       "6  001519c8         7     107469   107596          127          Input   \n",
       "7  001519c8         8     107659   107766          107          Input   \n",
       "8  001519c8         9     107743   107852          109          Input   \n",
       "9  001519c8        10     107840   107978          138          Input   \n",
       "\n",
       "  down_event   up_event text_change  cursor_position  word_count  \n",
       "0  Leftclick  Leftclick    NoChange                0           0  \n",
       "1  Leftclick  Leftclick    NoChange                0           0  \n",
       "2      Shift      Shift    NoChange                0           0  \n",
       "3          q          q           q                1           1  \n",
       "4          q          q           q                2           1  \n",
       "5          q          q           q                3           1  \n",
       "6          q          q           q                4           1  \n",
       "7          q          q           q                5           1  \n",
       "8          q          q           q                6           1  \n",
       "9      Space      Space                            7           1  "
      ]
     },
     "execution_count": 5,
     "metadata": {},
     "output_type": "execute_result"
    }
   ],
   "source": [
    "train_df.head(10)"
   ]
  },
  {
   "cell_type": "markdown",
   "metadata": {},
   "source": [
    "### Cleaning Data and Feature Engineering\n",
    "Before we can split, we need to convert the keystroke measurements to the appropriate metrics for each user. Due to these metric types originally being event dependent, we will be dropping 'cursor_position', 'down_event', 'up_event', and 'text_change.' "
   ]
  },
  {
   "cell_type": "code",
   "execution_count": 6,
   "metadata": {},
   "outputs": [
    {
     "name": "stderr",
     "output_type": "stream",
     "text": [
      "C:\\Users\\Nate\\AppData\\Local\\Temp\\ipykernel_8648\\2584426937.py:1: FutureWarning: The default value of numeric_only in DataFrameGroupBy.sum is deprecated. In a future version, numeric_only will default to False. Either specify numeric_only or select only columns which should be valid for the function.\n",
      "  cleaned_data = train_df.drop(columns=['cursor_position','down_event', 'up_event','text_change']).groupby('id').sum()\n",
      "C:\\Users\\Nate\\AppData\\Local\\Temp\\ipykernel_8648\\2584426937.py:12: FutureWarning: The default value of numeric_only in DataFrameGroupBy.sum is deprecated. In a future version, numeric_only will default to False. Either specify numeric_only or select only columns which should be valid for the function.\n",
      "  cleaned_test = test_logs.drop(columns=['cursor_position','down_event', 'up_event','text_change']).groupby('id').sum()\n"
     ]
    },
    {
     "data": {
      "text/html": [
       "<div>\n",
       "<style scoped>\n",
       "    .dataframe tbody tr th:only-of-type {\n",
       "        vertical-align: middle;\n",
       "    }\n",
       "\n",
       "    .dataframe tbody tr th {\n",
       "        vertical-align: top;\n",
       "    }\n",
       "\n",
       "    .dataframe thead th {\n",
       "        text-align: right;\n",
       "    }\n",
       "</style>\n",
       "<table border=\"1\" class=\"dataframe\">\n",
       "  <thead>\n",
       "    <tr style=\"text-align: right;\">\n",
       "      <th></th>\n",
       "      <th>event_id</th>\n",
       "      <th>down_time</th>\n",
       "      <th>up_time</th>\n",
       "      <th>action_time</th>\n",
       "      <th>word_count</th>\n",
       "      <th>min_down_time</th>\n",
       "      <th>max_up_time</th>\n",
       "      <th>min_action_time</th>\n",
       "      <th>max_action_time</th>\n",
       "      <th>score</th>\n",
       "    </tr>\n",
       "  </thead>\n",
       "  <tbody>\n",
       "    <tr>\n",
       "      <th>count</th>\n",
       "      <td>2.471000e+03</td>\n",
       "      <td>2.471000e+03</td>\n",
       "      <td>2.471000e+03</td>\n",
       "      <td>2.471000e+03</td>\n",
       "      <td>2.471000e+03</td>\n",
       "      <td>2.471000e+03</td>\n",
       "      <td>2.471000e+03</td>\n",
       "      <td>2471.000000</td>\n",
       "      <td>2471.000000</td>\n",
       "      <td>2471.000000</td>\n",
       "    </tr>\n",
       "    <tr>\n",
       "      <th>mean</th>\n",
       "      <td>7.033772e+06</td>\n",
       "      <td>2.699550e+09</td>\n",
       "      <td>2.699883e+09</td>\n",
       "      <td>3.336675e+05</td>\n",
       "      <td>7.874151e+05</td>\n",
       "      <td>4.239387e+04</td>\n",
       "      <td>1.769537e+06</td>\n",
       "      <td>0.116957</td>\n",
       "      <td>2989.163497</td>\n",
       "      <td>3.711251</td>\n",
       "    </tr>\n",
       "    <tr>\n",
       "      <th>std</th>\n",
       "      <td>7.095160e+06</td>\n",
       "      <td>1.727236e+09</td>\n",
       "      <td>1.727350e+09</td>\n",
       "      <td>1.575202e+05</td>\n",
       "      <td>7.298654e+05</td>\n",
       "      <td>1.658284e+05</td>\n",
       "      <td>2.760283e+05</td>\n",
       "      <td>1.289195</td>\n",
       "      <td>13084.145614</td>\n",
       "      <td>1.024937</td>\n",
       "    </tr>\n",
       "    <tr>\n",
       "      <th>min</th>\n",
       "      <td>3.445300e+04</td>\n",
       "      <td>1.723896e+07</td>\n",
       "      <td>1.725651e+07</td>\n",
       "      <td>1.345200e+04</td>\n",
       "      <td>5.044000e+03</td>\n",
       "      <td>1.060000e+02</td>\n",
       "      <td>2.295480e+05</td>\n",
       "      <td>0.000000</td>\n",
       "      <td>153.000000</td>\n",
       "      <td>0.500000</td>\n",
       "    </tr>\n",
       "    <tr>\n",
       "      <th>25%</th>\n",
       "      <td>2.406818e+06</td>\n",
       "      <td>1.552195e+09</td>\n",
       "      <td>1.552490e+09</td>\n",
       "      <td>2.111480e+05</td>\n",
       "      <td>2.945275e+05</td>\n",
       "      <td>2.131500e+03</td>\n",
       "      <td>1.754901e+06</td>\n",
       "      <td>0.000000</td>\n",
       "      <td>515.000000</td>\n",
       "      <td>3.000000</td>\n",
       "    </tr>\n",
       "    <tr>\n",
       "      <th>50%</th>\n",
       "      <td>4.750903e+06</td>\n",
       "      <td>2.315883e+09</td>\n",
       "      <td>2.316161e+09</td>\n",
       "      <td>3.049510e+05</td>\n",
       "      <td>5.629010e+05</td>\n",
       "      <td>2.114900e+04</td>\n",
       "      <td>1.792315e+06</td>\n",
       "      <td>0.000000</td>\n",
       "      <td>1278.000000</td>\n",
       "      <td>4.000000</td>\n",
       "    </tr>\n",
       "    <tr>\n",
       "      <th>75%</th>\n",
       "      <td>9.251451e+06</td>\n",
       "      <td>3.441110e+09</td>\n",
       "      <td>3.441537e+09</td>\n",
       "      <td>4.248140e+05</td>\n",
       "      <td>1.018560e+06</td>\n",
       "      <td>4.592500e+04</td>\n",
       "      <td>1.807774e+06</td>\n",
       "      <td>0.000000</td>\n",
       "      <td>2648.500000</td>\n",
       "      <td>4.500000</td>\n",
       "    </tr>\n",
       "    <tr>\n",
       "      <th>max</th>\n",
       "      <td>8.290213e+07</td>\n",
       "      <td>2.424430e+10</td>\n",
       "      <td>2.424494e+10</td>\n",
       "      <td>1.210508e+06</td>\n",
       "      <td>6.546254e+06</td>\n",
       "      <td>7.452424e+06</td>\n",
       "      <td>8.313707e+06</td>\n",
       "      <td>32.000000</td>\n",
       "      <td>447470.000000</td>\n",
       "      <td>6.000000</td>\n",
       "    </tr>\n",
       "  </tbody>\n",
       "</table>\n",
       "</div>"
      ],
      "text/plain": [
       "           event_id     down_time       up_time   action_time    word_count  \\\n",
       "count  2.471000e+03  2.471000e+03  2.471000e+03  2.471000e+03  2.471000e+03   \n",
       "mean   7.033772e+06  2.699550e+09  2.699883e+09  3.336675e+05  7.874151e+05   \n",
       "std    7.095160e+06  1.727236e+09  1.727350e+09  1.575202e+05  7.298654e+05   \n",
       "min    3.445300e+04  1.723896e+07  1.725651e+07  1.345200e+04  5.044000e+03   \n",
       "25%    2.406818e+06  1.552195e+09  1.552490e+09  2.111480e+05  2.945275e+05   \n",
       "50%    4.750903e+06  2.315883e+09  2.316161e+09  3.049510e+05  5.629010e+05   \n",
       "75%    9.251451e+06  3.441110e+09  3.441537e+09  4.248140e+05  1.018560e+06   \n",
       "max    8.290213e+07  2.424430e+10  2.424494e+10  1.210508e+06  6.546254e+06   \n",
       "\n",
       "       min_down_time   max_up_time  min_action_time  max_action_time  \\\n",
       "count   2.471000e+03  2.471000e+03      2471.000000      2471.000000   \n",
       "mean    4.239387e+04  1.769537e+06         0.116957      2989.163497   \n",
       "std     1.658284e+05  2.760283e+05         1.289195     13084.145614   \n",
       "min     1.060000e+02  2.295480e+05         0.000000       153.000000   \n",
       "25%     2.131500e+03  1.754901e+06         0.000000       515.000000   \n",
       "50%     2.114900e+04  1.792315e+06         0.000000      1278.000000   \n",
       "75%     4.592500e+04  1.807774e+06         0.000000      2648.500000   \n",
       "max     7.452424e+06  8.313707e+06        32.000000    447470.000000   \n",
       "\n",
       "             score  \n",
       "count  2471.000000  \n",
       "mean      3.711251  \n",
       "std       1.024937  \n",
       "min       0.500000  \n",
       "25%       3.000000  \n",
       "50%       4.000000  \n",
       "75%       4.500000  \n",
       "max       6.000000  "
      ]
     },
     "execution_count": 6,
     "metadata": {},
     "output_type": "execute_result"
    }
   ],
   "source": [
    "cleaned_data = train_df.drop(columns=['cursor_position','down_event', 'up_event','text_change']).groupby('id').sum() \n",
    "mins_data = train_df.drop(columns=['cursor_position','down_event', 'up_event','text_change']).groupby(\"id\").min()\n",
    "maxes_data = train_df.drop(columns=['cursor_position','down_event', 'up_event','text_change']).groupby(\"id\").max()\n",
    "\n",
    "cleaned_data['min_down_time'] = mins_data['down_time']\n",
    "cleaned_data['max_up_time'] = maxes_data['up_time']\n",
    "cleaned_data['min_action_time'] = mins_data['action_time']\n",
    "cleaned_data['max_action_time'] = maxes_data['action_time']\n",
    "cleaned_data = cleaned_data.merge(train_scores, on='id')\n",
    "\n",
    "\n",
    "cleaned_test = test_logs.drop(columns=['cursor_position','down_event', 'up_event','text_change']).groupby('id').sum()\n",
    "mins_test = test_logs.drop(columns=['cursor_position','down_event', 'up_event','text_change']).groupby(\"id\").min() \n",
    "maxes_test = test_logs.drop(columns=['cursor_position','down_event', 'up_event','text_change']).groupby(\"id\").max()\n",
    "\n",
    "cleaned_test['min_down_time'] = mins_test['down_time']\n",
    "cleaned_test['max_up_time'] = maxes_test['up_time']\n",
    "cleaned_test['min_action_time'] = mins_test['action_time']\n",
    "cleaned_test['max_action_time'] = maxes_test['action_time']\n",
    "cleaned_test = cleaned_test.merge(train_scores, on='id')\n",
    "\n",
    "cleaned_data.describe()"
   ]
  },
  {
   "cell_type": "markdown",
   "metadata": {},
   "source": [
    "In order to make the model as simple and linear as possible, each essay's event IDs, down/up times, action times, word counts, and scores have been made into one table by combining the metrics by essay ID (some by max, min, or sum, which is functionally the same as mean in these cases). This will result in massive losses in precision capability but should still produce reasonably good results while being massively faster to work with."
   ]
  },
  {
   "cell_type": "code",
   "execution_count": null,
   "metadata": {},
   "outputs": [],
   "source": []
  },
  {
   "cell_type": "markdown",
   "metadata": {},
   "source": [
    "### Preprocessing\n",
    "\n"
   ]
  },
  {
   "cell_type": "code",
   "execution_count": 7,
   "metadata": {},
   "outputs": [
    {
     "name": "stdout",
     "output_type": "stream",
     "text": [
      "<class 'pandas.core.frame.DataFrame'>\n",
      "Int64Index: 2471 entries, 0 to 2470\n",
      "Data columns (total 11 columns):\n",
      " #   Column           Non-Null Count  Dtype  \n",
      "---  ------           --------------  -----  \n",
      " 0   id               2471 non-null   object \n",
      " 1   event_id         2471 non-null   int64  \n",
      " 2   down_time        2471 non-null   int64  \n",
      " 3   up_time          2471 non-null   int64  \n",
      " 4   action_time      2471 non-null   int64  \n",
      " 5   word_count       2471 non-null   int64  \n",
      " 6   min_down_time    2471 non-null   int64  \n",
      " 7   max_up_time      2471 non-null   int64  \n",
      " 8   min_action_time  2471 non-null   int64  \n",
      " 9   max_action_time  2471 non-null   int64  \n",
      " 10  score            2471 non-null   float64\n",
      "dtypes: float64(1), int64(9), object(1)\n",
      "memory usage: 231.7+ KB\n"
     ]
    },
    {
     "data": {
      "text/plain": [
       "count    2.471000e+03\n",
       "mean     3.336675e+05\n",
       "std      1.575202e+05\n",
       "min      1.345200e+04\n",
       "25%      2.111480e+05\n",
       "50%      3.049510e+05\n",
       "75%      4.248140e+05\n",
       "max      1.210508e+06\n",
       "Name: action_time, dtype: float64"
      ]
     },
     "execution_count": 7,
     "metadata": {},
     "output_type": "execute_result"
    }
   ],
   "source": [
    "# Identify numeric feature statistics\n",
    "cleaned_data.info()\n",
    "cleaned_data.describe(include='all')\n",
    "\n",
    "# Checking for missing values\n",
    "cleaned_data.describe(include=\"all\").loc['count']\n",
    "cleaned_data[\"action_time\"].describe()"
   ]
  },
  {
   "cell_type": "code",
   "execution_count": 8,
   "metadata": {},
   "outputs": [],
   "source": [
    "drop_variables = ['id']\n",
    "passthrough_variables = ['score']\n",
    "scale_variables = ['event_id', 'down_time', 'up_time', 'action_time', 'word_count',\n",
    "                   'min_down_time', 'max_up_time', 'min_action_time', 'max_action_time']"
   ]
  },
  {
   "cell_type": "code",
   "execution_count": 9,
   "metadata": {},
   "outputs": [],
   "source": [
    "preprocessor = make_column_transformer(\n",
    "    ('drop', drop_variables),\n",
    "    (\"passthrough\", passthrough_variables),\n",
    "    (StandardScaler(), scale_variables)\n",
    ")"
   ]
  },
  {
   "cell_type": "code",
   "execution_count": 10,
   "metadata": {},
   "outputs": [],
   "source": [
    "transformed = preprocessor.fit_transform(cleaned_data)\n",
    "column_names = passthrough_variables + scale_variables"
   ]
  },
  {
   "cell_type": "code",
   "execution_count": 11,
   "metadata": {},
   "outputs": [
    {
     "data": {
      "text/html": [
       "<div>\n",
       "<style scoped>\n",
       "    .dataframe tbody tr th:only-of-type {\n",
       "        vertical-align: middle;\n",
       "    }\n",
       "\n",
       "    .dataframe tbody tr th {\n",
       "        vertical-align: top;\n",
       "    }\n",
       "\n",
       "    .dataframe thead th {\n",
       "        text-align: right;\n",
       "    }\n",
       "</style>\n",
       "<table border=\"1\" class=\"dataframe\">\n",
       "  <thead>\n",
       "    <tr style=\"text-align: right;\">\n",
       "      <th></th>\n",
       "      <th>score</th>\n",
       "      <th>event_id</th>\n",
       "      <th>down_time</th>\n",
       "      <th>up_time</th>\n",
       "      <th>action_time</th>\n",
       "      <th>word_count</th>\n",
       "      <th>min_down_time</th>\n",
       "      <th>max_up_time</th>\n",
       "      <th>min_action_time</th>\n",
       "      <th>max_action_time</th>\n",
       "    </tr>\n",
       "  </thead>\n",
       "  <tbody>\n",
       "    <tr>\n",
       "      <th>0</th>\n",
       "      <td>3.5</td>\n",
       "      <td>-0.530521</td>\n",
       "      <td>-0.307346</td>\n",
       "      <td>-0.307347</td>\n",
       "      <td>-0.231284</td>\n",
       "      <td>-0.630137</td>\n",
       "      <td>-0.228402</td>\n",
       "      <td>0.117518</td>\n",
       "      <td>-0.090739</td>\n",
       "      <td>-0.055817</td>\n",
       "    </tr>\n",
       "    <tr>\n",
       "      <th>1</th>\n",
       "      <td>3.5</td>\n",
       "      <td>-0.566908</td>\n",
       "      <td>-0.825925</td>\n",
       "      <td>-0.825904</td>\n",
       "      <td>-0.370037</td>\n",
       "      <td>-0.464609</td>\n",
       "      <td>-0.070997</td>\n",
       "      <td>0.070412</td>\n",
       "      <td>-0.090739</td>\n",
       "      <td>-0.094115</td>\n",
       "    </tr>\n",
       "    <tr>\n",
       "      <th>2</th>\n",
       "      <td>6.0</td>\n",
       "      <td>0.214492</td>\n",
       "      <td>0.421043</td>\n",
       "      <td>0.421065</td>\n",
       "      <td>0.555810</td>\n",
       "      <td>0.024893</td>\n",
       "      <td>-0.228915</td>\n",
       "      <td>0.007724</td>\n",
       "      <td>-0.090739</td>\n",
       "      <td>0.001211</td>\n",
       "    </tr>\n",
       "    <tr>\n",
       "      <th>3</th>\n",
       "      <td>2.0</td>\n",
       "      <td>-0.820785</td>\n",
       "      <td>-0.855492</td>\n",
       "      <td>-0.855519</td>\n",
       "      <td>-0.914808</td>\n",
       "      <td>-0.858118</td>\n",
       "      <td>-0.006025</td>\n",
       "      <td>-1.322843</td>\n",
       "      <td>-0.090739</td>\n",
       "      <td>-0.166889</td>\n",
       "    </tr>\n",
       "    <tr>\n",
       "      <th>4</th>\n",
       "      <td>4.0</td>\n",
       "      <td>-0.539847</td>\n",
       "      <td>-0.517724</td>\n",
       "      <td>-0.517701</td>\n",
       "      <td>-0.126774</td>\n",
       "      <td>-0.645222</td>\n",
       "      <td>0.217595</td>\n",
       "      <td>-0.387956</td>\n",
       "      <td>-0.090739</td>\n",
       "      <td>-0.174916</td>\n",
       "    </tr>\n",
       "    <tr>\n",
       "      <th>...</th>\n",
       "      <td>...</td>\n",
       "      <td>...</td>\n",
       "      <td>...</td>\n",
       "      <td>...</td>\n",
       "      <td>...</td>\n",
       "      <td>...</td>\n",
       "      <td>...</td>\n",
       "      <td>...</td>\n",
       "      <td>...</td>\n",
       "      <td>...</td>\n",
       "    </tr>\n",
       "    <tr>\n",
       "      <th>2466</th>\n",
       "      <td>3.5</td>\n",
       "      <td>0.591743</td>\n",
       "      <td>0.456797</td>\n",
       "      <td>0.456863</td>\n",
       "      <td>1.054063</td>\n",
       "      <td>0.585768</td>\n",
       "      <td>-0.120190</td>\n",
       "      <td>0.080123</td>\n",
       "      <td>-0.090739</td>\n",
       "      <td>0.025520</td>\n",
       "    </tr>\n",
       "    <tr>\n",
       "      <th>2467</th>\n",
       "      <td>4.0</td>\n",
       "      <td>-0.513420</td>\n",
       "      <td>-0.293632</td>\n",
       "      <td>-0.293682</td>\n",
       "      <td>-0.758447</td>\n",
       "      <td>-0.283245</td>\n",
       "      <td>-0.124623</td>\n",
       "      <td>0.107390</td>\n",
       "      <td>-0.090739</td>\n",
       "      <td>-0.141051</td>\n",
       "    </tr>\n",
       "    <tr>\n",
       "      <th>2468</th>\n",
       "      <td>1.5</td>\n",
       "      <td>-0.330046</td>\n",
       "      <td>0.616673</td>\n",
       "      <td>0.616573</td>\n",
       "      <td>-0.648223</td>\n",
       "      <td>-0.417585</td>\n",
       "      <td>-0.114068</td>\n",
       "      <td>0.687843</td>\n",
       "      <td>-0.090739</td>\n",
       "      <td>-0.185389</td>\n",
       "    </tr>\n",
       "    <tr>\n",
       "      <th>2469</th>\n",
       "      <td>5.0</td>\n",
       "      <td>-0.250485</td>\n",
       "      <td>-0.480910</td>\n",
       "      <td>-0.480904</td>\n",
       "      <td>-0.280837</td>\n",
       "      <td>-0.164217</td>\n",
       "      <td>-0.135763</td>\n",
       "      <td>-0.945867</td>\n",
       "      <td>-0.090739</td>\n",
       "      <td>-0.122399</td>\n",
       "    </tr>\n",
       "    <tr>\n",
       "      <th>2470</th>\n",
       "      <td>4.0</td>\n",
       "      <td>-0.068142</td>\n",
       "      <td>0.693473</td>\n",
       "      <td>0.693409</td>\n",
       "      <td>-0.205936</td>\n",
       "      <td>-0.557804</td>\n",
       "      <td>-0.016085</td>\n",
       "      <td>1.089224</td>\n",
       "      <td>-0.090739</td>\n",
       "      <td>-0.082113</td>\n",
       "    </tr>\n",
       "  </tbody>\n",
       "</table>\n",
       "<p>2471 rows × 10 columns</p>\n",
       "</div>"
      ],
      "text/plain": [
       "      score  event_id  down_time   up_time  action_time  word_count  \\\n",
       "0       3.5 -0.530521  -0.307346 -0.307347    -0.231284   -0.630137   \n",
       "1       3.5 -0.566908  -0.825925 -0.825904    -0.370037   -0.464609   \n",
       "2       6.0  0.214492   0.421043  0.421065     0.555810    0.024893   \n",
       "3       2.0 -0.820785  -0.855492 -0.855519    -0.914808   -0.858118   \n",
       "4       4.0 -0.539847  -0.517724 -0.517701    -0.126774   -0.645222   \n",
       "...     ...       ...        ...       ...          ...         ...   \n",
       "2466    3.5  0.591743   0.456797  0.456863     1.054063    0.585768   \n",
       "2467    4.0 -0.513420  -0.293632 -0.293682    -0.758447   -0.283245   \n",
       "2468    1.5 -0.330046   0.616673  0.616573    -0.648223   -0.417585   \n",
       "2469    5.0 -0.250485  -0.480910 -0.480904    -0.280837   -0.164217   \n",
       "2470    4.0 -0.068142   0.693473  0.693409    -0.205936   -0.557804   \n",
       "\n",
       "      min_down_time  max_up_time  min_action_time  max_action_time  \n",
       "0         -0.228402     0.117518        -0.090739        -0.055817  \n",
       "1         -0.070997     0.070412        -0.090739        -0.094115  \n",
       "2         -0.228915     0.007724        -0.090739         0.001211  \n",
       "3         -0.006025    -1.322843        -0.090739        -0.166889  \n",
       "4          0.217595    -0.387956        -0.090739        -0.174916  \n",
       "...             ...          ...              ...              ...  \n",
       "2466      -0.120190     0.080123        -0.090739         0.025520  \n",
       "2467      -0.124623     0.107390        -0.090739        -0.141051  \n",
       "2468      -0.114068     0.687843        -0.090739        -0.185389  \n",
       "2469      -0.135763    -0.945867        -0.090739        -0.122399  \n",
       "2470      -0.016085     1.089224        -0.090739        -0.082113  \n",
       "\n",
       "[2471 rows x 10 columns]"
      ]
     },
<<<<<<< HEAD
     "execution_count": 137,
=======
     "execution_count": 11,
>>>>>>> 8a8e7b9818e94b6e2cba9315de1c09d94e40e689
     "metadata": {},
     "output_type": "execute_result"
    }
   ],
   "source": [
    "X_trained_transformed = pd.DataFrame(transformed, columns=column_names)\n",
    "X_trained_transformed"
   ]
  },
  {
   "cell_type": "markdown",
   "metadata": {},
   "source": [
    "### Splitting Data"
   ]
  },
  {
   "cell_type": "code",
<<<<<<< HEAD
   "execution_count": 138,
=======
   "execution_count": 12,
>>>>>>> 8a8e7b9818e94b6e2cba9315de1c09d94e40e689
   "metadata": {},
   "outputs": [],
   "source": [
    "# for run time consistency, set seed\n",
    "np.random.seed(42)\n",
<<<<<<< HEAD
    "train_df, test_df = train_test_split(X_trained_transformed, test_size=0.2, random_state=42)\n"
   ]
  },
  {
   "cell_type": "code",
   "execution_count": 139,
   "metadata": {},
   "outputs": [],
   "source": [
    "# Scaling prediction test data\n",
    "passthrough_variables = ['id']\n",
    "scale_variables = ['event_id', 'down_time', 'up_time', 'action_time', 'word_count']\n",
    "\n",
    "preprocessor = make_column_transformer(\n",
    "    (\"passthrough\", passthrough_variables),\n",
    "    (StandardScaler(), scale_variables)\n",
    ")\n",
    "\n",
    "transformed = preprocessor.fit_transform(cleaned_prediction_test)\n",
    "column_names = passthrough_variables + scale_variables\n",
    "\n",
    "prediction_test_transformed = pd.DataFrame(transformed, columns=column_names)"
=======
    "train_df, test_df = train_test_split(X_trained_transformed, test_size=0.2, random_state=42)\n",
    "y_train = train_df['score']\n",
    "X_train = train_df.drop(columns='score')\n",
    "y_test = test_df['score']\n",
    "X_test = test_df.drop(columns='score')\n",
    "\n"
>>>>>>> 8a8e7b9818e94b6e2cba9315de1c09d94e40e689
   ]
  },
  {
   "cell_type": "markdown",
   "metadata": {},
   "source": [
    "### Dummy Submission"
   ]
  },
  {
   "cell_type": "code",
<<<<<<< HEAD
   "execution_count": 140,
=======
   "execution_count": 13,
>>>>>>> 8a8e7b9818e94b6e2cba9315de1c09d94e40e689
   "metadata": {},
   "outputs": [
    {
     "data": {
      "text/html": [
<<<<<<< HEAD
       "<style>#sk-container-id-16 {color: black;}#sk-container-id-16 pre{padding: 0;}#sk-container-id-16 div.sk-toggleable {background-color: white;}#sk-container-id-16 label.sk-toggleable__label {cursor: pointer;display: block;width: 100%;margin-bottom: 0;padding: 0.3em;box-sizing: border-box;text-align: center;}#sk-container-id-16 label.sk-toggleable__label-arrow:before {content: \"▸\";float: left;margin-right: 0.25em;color: #696969;}#sk-container-id-16 label.sk-toggleable__label-arrow:hover:before {color: black;}#sk-container-id-16 div.sk-estimator:hover label.sk-toggleable__label-arrow:before {color: black;}#sk-container-id-16 div.sk-toggleable__content {max-height: 0;max-width: 0;overflow: hidden;text-align: left;background-color: #f0f8ff;}#sk-container-id-16 div.sk-toggleable__content pre {margin: 0.2em;color: black;border-radius: 0.25em;background-color: #f0f8ff;}#sk-container-id-16 input.sk-toggleable__control:checked~div.sk-toggleable__content {max-height: 200px;max-width: 100%;overflow: auto;}#sk-container-id-16 input.sk-toggleable__control:checked~label.sk-toggleable__label-arrow:before {content: \"▾\";}#sk-container-id-16 div.sk-estimator input.sk-toggleable__control:checked~label.sk-toggleable__label {background-color: #d4ebff;}#sk-container-id-16 div.sk-label input.sk-toggleable__control:checked~label.sk-toggleable__label {background-color: #d4ebff;}#sk-container-id-16 input.sk-hidden--visually {border: 0;clip: rect(1px 1px 1px 1px);clip: rect(1px, 1px, 1px, 1px);height: 1px;margin: -1px;overflow: hidden;padding: 0;position: absolute;width: 1px;}#sk-container-id-16 div.sk-estimator {font-family: monospace;background-color: #f0f8ff;border: 1px dotted black;border-radius: 0.25em;box-sizing: border-box;margin-bottom: 0.5em;}#sk-container-id-16 div.sk-estimator:hover {background-color: #d4ebff;}#sk-container-id-16 div.sk-parallel-item::after {content: \"\";width: 100%;border-bottom: 1px solid gray;flex-grow: 1;}#sk-container-id-16 div.sk-label:hover label.sk-toggleable__label {background-color: #d4ebff;}#sk-container-id-16 div.sk-serial::before {content: \"\";position: absolute;border-left: 1px solid gray;box-sizing: border-box;top: 0;bottom: 0;left: 50%;z-index: 0;}#sk-container-id-16 div.sk-serial {display: flex;flex-direction: column;align-items: center;background-color: white;padding-right: 0.2em;padding-left: 0.2em;position: relative;}#sk-container-id-16 div.sk-item {position: relative;z-index: 1;}#sk-container-id-16 div.sk-parallel {display: flex;align-items: stretch;justify-content: center;background-color: white;position: relative;}#sk-container-id-16 div.sk-item::before, #sk-container-id-16 div.sk-parallel-item::before {content: \"\";position: absolute;border-left: 1px solid gray;box-sizing: border-box;top: 0;bottom: 0;left: 50%;z-index: -1;}#sk-container-id-16 div.sk-parallel-item {display: flex;flex-direction: column;z-index: 1;position: relative;background-color: white;}#sk-container-id-16 div.sk-parallel-item:first-child::after {align-self: flex-end;width: 50%;}#sk-container-id-16 div.sk-parallel-item:last-child::after {align-self: flex-start;width: 50%;}#sk-container-id-16 div.sk-parallel-item:only-child::after {width: 0;}#sk-container-id-16 div.sk-dashed-wrapped {border: 1px dashed gray;margin: 0 0.4em 0.5em 0.4em;box-sizing: border-box;padding-bottom: 0.4em;background-color: white;}#sk-container-id-16 div.sk-label label {font-family: monospace;font-weight: bold;display: inline-block;line-height: 1.2em;}#sk-container-id-16 div.sk-label-container {text-align: center;}#sk-container-id-16 div.sk-container {/* jupyter's `normalize.less` sets `[hidden] { display: none; }` but bootstrap.min.css set `[hidden] { display: none !important; }` so we also need the `!important` here to be able to override the default hidden behavior on the sphinx rendered scikit-learn.org. See: https://github.com/scikit-learn/scikit-learn/issues/21755 */display: inline-block !important;position: relative;}#sk-container-id-16 div.sk-text-repr-fallback {display: none;}</style><div id=\"sk-container-id-16\" class=\"sk-top-container\"><div class=\"sk-text-repr-fallback\"><pre>DummyClassifier(strategy=&#x27;most_frequent&#x27;)</pre><b>In a Jupyter environment, please rerun this cell to show the HTML representation or trust the notebook. <br />On GitHub, the HTML representation is unable to render, please try loading this page with nbviewer.org.</b></div><div class=\"sk-container\" hidden><div class=\"sk-item\"><div class=\"sk-estimator sk-toggleable\"><input class=\"sk-toggleable__control sk-hidden--visually\" id=\"sk-estimator-id-16\" type=\"checkbox\" checked><label for=\"sk-estimator-id-16\" class=\"sk-toggleable__label sk-toggleable__label-arrow\">DummyClassifier</label><div class=\"sk-toggleable__content\"><pre>DummyClassifier(strategy=&#x27;most_frequent&#x27;)</pre></div></div></div></div></div>"
=======
       "<style>#sk-container-id-1 {color: black;background-color: white;}#sk-container-id-1 pre{padding: 0;}#sk-container-id-1 div.sk-toggleable {background-color: white;}#sk-container-id-1 label.sk-toggleable__label {cursor: pointer;display: block;width: 100%;margin-bottom: 0;padding: 0.3em;box-sizing: border-box;text-align: center;}#sk-container-id-1 label.sk-toggleable__label-arrow:before {content: \"▸\";float: left;margin-right: 0.25em;color: #696969;}#sk-container-id-1 label.sk-toggleable__label-arrow:hover:before {color: black;}#sk-container-id-1 div.sk-estimator:hover label.sk-toggleable__label-arrow:before {color: black;}#sk-container-id-1 div.sk-toggleable__content {max-height: 0;max-width: 0;overflow: hidden;text-align: left;background-color: #f0f8ff;}#sk-container-id-1 div.sk-toggleable__content pre {margin: 0.2em;color: black;border-radius: 0.25em;background-color: #f0f8ff;}#sk-container-id-1 input.sk-toggleable__control:checked~div.sk-toggleable__content {max-height: 200px;max-width: 100%;overflow: auto;}#sk-container-id-1 input.sk-toggleable__control:checked~label.sk-toggleable__label-arrow:before {content: \"▾\";}#sk-container-id-1 div.sk-estimator input.sk-toggleable__control:checked~label.sk-toggleable__label {background-color: #d4ebff;}#sk-container-id-1 div.sk-label input.sk-toggleable__control:checked~label.sk-toggleable__label {background-color: #d4ebff;}#sk-container-id-1 input.sk-hidden--visually {border: 0;clip: rect(1px 1px 1px 1px);clip: rect(1px, 1px, 1px, 1px);height: 1px;margin: -1px;overflow: hidden;padding: 0;position: absolute;width: 1px;}#sk-container-id-1 div.sk-estimator {font-family: monospace;background-color: #f0f8ff;border: 1px dotted black;border-radius: 0.25em;box-sizing: border-box;margin-bottom: 0.5em;}#sk-container-id-1 div.sk-estimator:hover {background-color: #d4ebff;}#sk-container-id-1 div.sk-parallel-item::after {content: \"\";width: 100%;border-bottom: 1px solid gray;flex-grow: 1;}#sk-container-id-1 div.sk-label:hover label.sk-toggleable__label {background-color: #d4ebff;}#sk-container-id-1 div.sk-serial::before {content: \"\";position: absolute;border-left: 1px solid gray;box-sizing: border-box;top: 0;bottom: 0;left: 50%;z-index: 0;}#sk-container-id-1 div.sk-serial {display: flex;flex-direction: column;align-items: center;background-color: white;padding-right: 0.2em;padding-left: 0.2em;position: relative;}#sk-container-id-1 div.sk-item {position: relative;z-index: 1;}#sk-container-id-1 div.sk-parallel {display: flex;align-items: stretch;justify-content: center;background-color: white;position: relative;}#sk-container-id-1 div.sk-item::before, #sk-container-id-1 div.sk-parallel-item::before {content: \"\";position: absolute;border-left: 1px solid gray;box-sizing: border-box;top: 0;bottom: 0;left: 50%;z-index: -1;}#sk-container-id-1 div.sk-parallel-item {display: flex;flex-direction: column;z-index: 1;position: relative;background-color: white;}#sk-container-id-1 div.sk-parallel-item:first-child::after {align-self: flex-end;width: 50%;}#sk-container-id-1 div.sk-parallel-item:last-child::after {align-self: flex-start;width: 50%;}#sk-container-id-1 div.sk-parallel-item:only-child::after {width: 0;}#sk-container-id-1 div.sk-dashed-wrapped {border: 1px dashed gray;margin: 0 0.4em 0.5em 0.4em;box-sizing: border-box;padding-bottom: 0.4em;background-color: white;}#sk-container-id-1 div.sk-label label {font-family: monospace;font-weight: bold;display: inline-block;line-height: 1.2em;}#sk-container-id-1 div.sk-label-container {text-align: center;}#sk-container-id-1 div.sk-container {/* jupyter's `normalize.less` sets `[hidden] { display: none; }` but bootstrap.min.css set `[hidden] { display: none !important; }` so we also need the `!important` here to be able to override the default hidden behavior on the sphinx rendered scikit-learn.org. See: https://github.com/scikit-learn/scikit-learn/issues/21755 */display: inline-block !important;position: relative;}#sk-container-id-1 div.sk-text-repr-fallback {display: none;}</style><div id=\"sk-container-id-1\" class=\"sk-top-container\"><div class=\"sk-text-repr-fallback\"><pre>DummyClassifier(strategy=&#x27;most_frequent&#x27;)</pre><b>In a Jupyter environment, please rerun this cell to show the HTML representation or trust the notebook. <br />On GitHub, the HTML representation is unable to render, please try loading this page with nbviewer.org.</b></div><div class=\"sk-container\" hidden><div class=\"sk-item\"><div class=\"sk-estimator sk-toggleable\"><input class=\"sk-toggleable__control sk-hidden--visually\" id=\"sk-estimator-id-1\" type=\"checkbox\" checked><label for=\"sk-estimator-id-1\" class=\"sk-toggleable__label sk-toggleable__label-arrow\">DummyClassifier</label><div class=\"sk-toggleable__content\"><pre>DummyClassifier(strategy=&#x27;most_frequent&#x27;)</pre></div></div></div></div></div>"
>>>>>>> 8a8e7b9818e94b6e2cba9315de1c09d94e40e689
      ],
      "text/plain": [
       "DummyClassifier(strategy='most_frequent')"
      ]
     },
<<<<<<< HEAD
     "execution_count": 140,
=======
     "execution_count": 13,
>>>>>>> 8a8e7b9818e94b6e2cba9315de1c09d94e40e689
     "metadata": {},
     "output_type": "execute_result"
    }
   ],
   "source": [
    "dummy_clf = DummyClassifier(strategy=\"most_frequent\")\n",
    "dummy_clf.fit(train_df.drop(columns=['score']), train_df['score'])"
   ]
  },
  {
   "cell_type": "code",
<<<<<<< HEAD
   "execution_count": 141,
=======
   "execution_count": 14,
>>>>>>> 8a8e7b9818e94b6e2cba9315de1c09d94e40e689
   "metadata": {},
   "outputs": [
    {
     "name": "stdout",
     "output_type": "stream",
     "text": [
      "<class 'pandas.core.frame.DataFrame'>\n",
      "Index: 0 entries\n",
      "Data columns (total 2 columns):\n",
      " #   Column  Non-Null Count  Dtype  \n",
      "---  ------  --------------  -----  \n",
      " 0   id      0 non-null      object \n",
      " 1   score   0 non-null      float64\n",
      "dtypes: float64(1), object(1)\n",
      "memory usage: 0.0+ bytes\n",
      "None\n"
     ]
    }
   ],
   "source": [
    "# Predict\n",
    "prediction = pd.DataFrame()\n",
    "prediction['id'] = cleaned_test.index\n",
    "prediction ['score']= dummy_clf.predict(cleaned_test)\n",
    "print(prediction.info())\n",
    "\n",
    "prediction.to_csv('../data/prediction.csv', index=False)"
   ]
  },
  {
   "cell_type": "markdown",
   "metadata": {},
   "source": [
    "## Dummy Submission Checkpoint 2 (1)"
   ]
  },
  {
   "cell_type": "code",
<<<<<<< HEAD
   "execution_count": 142,
=======
   "execution_count": 15,
>>>>>>> 8a8e7b9818e94b6e2cba9315de1c09d94e40e689
   "metadata": {},
   "outputs": [
    {
     "data": {
      "text/html": [
<<<<<<< HEAD
       "<style>#sk-container-id-17 {color: black;}#sk-container-id-17 pre{padding: 0;}#sk-container-id-17 div.sk-toggleable {background-color: white;}#sk-container-id-17 label.sk-toggleable__label {cursor: pointer;display: block;width: 100%;margin-bottom: 0;padding: 0.3em;box-sizing: border-box;text-align: center;}#sk-container-id-17 label.sk-toggleable__label-arrow:before {content: \"▸\";float: left;margin-right: 0.25em;color: #696969;}#sk-container-id-17 label.sk-toggleable__label-arrow:hover:before {color: black;}#sk-container-id-17 div.sk-estimator:hover label.sk-toggleable__label-arrow:before {color: black;}#sk-container-id-17 div.sk-toggleable__content {max-height: 0;max-width: 0;overflow: hidden;text-align: left;background-color: #f0f8ff;}#sk-container-id-17 div.sk-toggleable__content pre {margin: 0.2em;color: black;border-radius: 0.25em;background-color: #f0f8ff;}#sk-container-id-17 input.sk-toggleable__control:checked~div.sk-toggleable__content {max-height: 200px;max-width: 100%;overflow: auto;}#sk-container-id-17 input.sk-toggleable__control:checked~label.sk-toggleable__label-arrow:before {content: \"▾\";}#sk-container-id-17 div.sk-estimator input.sk-toggleable__control:checked~label.sk-toggleable__label {background-color: #d4ebff;}#sk-container-id-17 div.sk-label input.sk-toggleable__control:checked~label.sk-toggleable__label {background-color: #d4ebff;}#sk-container-id-17 input.sk-hidden--visually {border: 0;clip: rect(1px 1px 1px 1px);clip: rect(1px, 1px, 1px, 1px);height: 1px;margin: -1px;overflow: hidden;padding: 0;position: absolute;width: 1px;}#sk-container-id-17 div.sk-estimator {font-family: monospace;background-color: #f0f8ff;border: 1px dotted black;border-radius: 0.25em;box-sizing: border-box;margin-bottom: 0.5em;}#sk-container-id-17 div.sk-estimator:hover {background-color: #d4ebff;}#sk-container-id-17 div.sk-parallel-item::after {content: \"\";width: 100%;border-bottom: 1px solid gray;flex-grow: 1;}#sk-container-id-17 div.sk-label:hover label.sk-toggleable__label {background-color: #d4ebff;}#sk-container-id-17 div.sk-serial::before {content: \"\";position: absolute;border-left: 1px solid gray;box-sizing: border-box;top: 0;bottom: 0;left: 50%;z-index: 0;}#sk-container-id-17 div.sk-serial {display: flex;flex-direction: column;align-items: center;background-color: white;padding-right: 0.2em;padding-left: 0.2em;position: relative;}#sk-container-id-17 div.sk-item {position: relative;z-index: 1;}#sk-container-id-17 div.sk-parallel {display: flex;align-items: stretch;justify-content: center;background-color: white;position: relative;}#sk-container-id-17 div.sk-item::before, #sk-container-id-17 div.sk-parallel-item::before {content: \"\";position: absolute;border-left: 1px solid gray;box-sizing: border-box;top: 0;bottom: 0;left: 50%;z-index: -1;}#sk-container-id-17 div.sk-parallel-item {display: flex;flex-direction: column;z-index: 1;position: relative;background-color: white;}#sk-container-id-17 div.sk-parallel-item:first-child::after {align-self: flex-end;width: 50%;}#sk-container-id-17 div.sk-parallel-item:last-child::after {align-self: flex-start;width: 50%;}#sk-container-id-17 div.sk-parallel-item:only-child::after {width: 0;}#sk-container-id-17 div.sk-dashed-wrapped {border: 1px dashed gray;margin: 0 0.4em 0.5em 0.4em;box-sizing: border-box;padding-bottom: 0.4em;background-color: white;}#sk-container-id-17 div.sk-label label {font-family: monospace;font-weight: bold;display: inline-block;line-height: 1.2em;}#sk-container-id-17 div.sk-label-container {text-align: center;}#sk-container-id-17 div.sk-container {/* jupyter's `normalize.less` sets `[hidden] { display: none; }` but bootstrap.min.css set `[hidden] { display: none !important; }` so we also need the `!important` here to be able to override the default hidden behavior on the sphinx rendered scikit-learn.org. See: https://github.com/scikit-learn/scikit-learn/issues/21755 */display: inline-block !important;position: relative;}#sk-container-id-17 div.sk-text-repr-fallback {display: none;}</style><div id=\"sk-container-id-17\" class=\"sk-top-container\"><div class=\"sk-text-repr-fallback\"><pre>LinearRegression()</pre><b>In a Jupyter environment, please rerun this cell to show the HTML representation or trust the notebook. <br />On GitHub, the HTML representation is unable to render, please try loading this page with nbviewer.org.</b></div><div class=\"sk-container\" hidden><div class=\"sk-item\"><div class=\"sk-estimator sk-toggleable\"><input class=\"sk-toggleable__control sk-hidden--visually\" id=\"sk-estimator-id-17\" type=\"checkbox\" checked><label for=\"sk-estimator-id-17\" class=\"sk-toggleable__label sk-toggleable__label-arrow\">LinearRegression</label><div class=\"sk-toggleable__content\"><pre>LinearRegression()</pre></div></div></div></div></div>"
=======
       "<style>#sk-container-id-2 {color: black;background-color: white;}#sk-container-id-2 pre{padding: 0;}#sk-container-id-2 div.sk-toggleable {background-color: white;}#sk-container-id-2 label.sk-toggleable__label {cursor: pointer;display: block;width: 100%;margin-bottom: 0;padding: 0.3em;box-sizing: border-box;text-align: center;}#sk-container-id-2 label.sk-toggleable__label-arrow:before {content: \"▸\";float: left;margin-right: 0.25em;color: #696969;}#sk-container-id-2 label.sk-toggleable__label-arrow:hover:before {color: black;}#sk-container-id-2 div.sk-estimator:hover label.sk-toggleable__label-arrow:before {color: black;}#sk-container-id-2 div.sk-toggleable__content {max-height: 0;max-width: 0;overflow: hidden;text-align: left;background-color: #f0f8ff;}#sk-container-id-2 div.sk-toggleable__content pre {margin: 0.2em;color: black;border-radius: 0.25em;background-color: #f0f8ff;}#sk-container-id-2 input.sk-toggleable__control:checked~div.sk-toggleable__content {max-height: 200px;max-width: 100%;overflow: auto;}#sk-container-id-2 input.sk-toggleable__control:checked~label.sk-toggleable__label-arrow:before {content: \"▾\";}#sk-container-id-2 div.sk-estimator input.sk-toggleable__control:checked~label.sk-toggleable__label {background-color: #d4ebff;}#sk-container-id-2 div.sk-label input.sk-toggleable__control:checked~label.sk-toggleable__label {background-color: #d4ebff;}#sk-container-id-2 input.sk-hidden--visually {border: 0;clip: rect(1px 1px 1px 1px);clip: rect(1px, 1px, 1px, 1px);height: 1px;margin: -1px;overflow: hidden;padding: 0;position: absolute;width: 1px;}#sk-container-id-2 div.sk-estimator {font-family: monospace;background-color: #f0f8ff;border: 1px dotted black;border-radius: 0.25em;box-sizing: border-box;margin-bottom: 0.5em;}#sk-container-id-2 div.sk-estimator:hover {background-color: #d4ebff;}#sk-container-id-2 div.sk-parallel-item::after {content: \"\";width: 100%;border-bottom: 1px solid gray;flex-grow: 1;}#sk-container-id-2 div.sk-label:hover label.sk-toggleable__label {background-color: #d4ebff;}#sk-container-id-2 div.sk-serial::before {content: \"\";position: absolute;border-left: 1px solid gray;box-sizing: border-box;top: 0;bottom: 0;left: 50%;z-index: 0;}#sk-container-id-2 div.sk-serial {display: flex;flex-direction: column;align-items: center;background-color: white;padding-right: 0.2em;padding-left: 0.2em;position: relative;}#sk-container-id-2 div.sk-item {position: relative;z-index: 1;}#sk-container-id-2 div.sk-parallel {display: flex;align-items: stretch;justify-content: center;background-color: white;position: relative;}#sk-container-id-2 div.sk-item::before, #sk-container-id-2 div.sk-parallel-item::before {content: \"\";position: absolute;border-left: 1px solid gray;box-sizing: border-box;top: 0;bottom: 0;left: 50%;z-index: -1;}#sk-container-id-2 div.sk-parallel-item {display: flex;flex-direction: column;z-index: 1;position: relative;background-color: white;}#sk-container-id-2 div.sk-parallel-item:first-child::after {align-self: flex-end;width: 50%;}#sk-container-id-2 div.sk-parallel-item:last-child::after {align-self: flex-start;width: 50%;}#sk-container-id-2 div.sk-parallel-item:only-child::after {width: 0;}#sk-container-id-2 div.sk-dashed-wrapped {border: 1px dashed gray;margin: 0 0.4em 0.5em 0.4em;box-sizing: border-box;padding-bottom: 0.4em;background-color: white;}#sk-container-id-2 div.sk-label label {font-family: monospace;font-weight: bold;display: inline-block;line-height: 1.2em;}#sk-container-id-2 div.sk-label-container {text-align: center;}#sk-container-id-2 div.sk-container {/* jupyter's `normalize.less` sets `[hidden] { display: none; }` but bootstrap.min.css set `[hidden] { display: none !important; }` so we also need the `!important` here to be able to override the default hidden behavior on the sphinx rendered scikit-learn.org. See: https://github.com/scikit-learn/scikit-learn/issues/21755 */display: inline-block !important;position: relative;}#sk-container-id-2 div.sk-text-repr-fallback {display: none;}</style><div id=\"sk-container-id-2\" class=\"sk-top-container\"><div class=\"sk-text-repr-fallback\"><pre>DummyClassifier(strategy=&#x27;uniform&#x27;)</pre><b>In a Jupyter environment, please rerun this cell to show the HTML representation or trust the notebook. <br />On GitHub, the HTML representation is unable to render, please try loading this page with nbviewer.org.</b></div><div class=\"sk-container\" hidden><div class=\"sk-item\"><div class=\"sk-estimator sk-toggleable\"><input class=\"sk-toggleable__control sk-hidden--visually\" id=\"sk-estimator-id-2\" type=\"checkbox\" checked><label for=\"sk-estimator-id-2\" class=\"sk-toggleable__label sk-toggleable__label-arrow\">DummyClassifier</label><div class=\"sk-toggleable__content\"><pre>DummyClassifier(strategy=&#x27;uniform&#x27;)</pre></div></div></div></div></div>"
>>>>>>> 8a8e7b9818e94b6e2cba9315de1c09d94e40e689
      ],
      "text/plain": [
       "DummyClassifier(strategy='uniform')"
      ]
     },
<<<<<<< HEAD
     "execution_count": 142,
=======
     "execution_count": 15,
>>>>>>> 8a8e7b9818e94b6e2cba9315de1c09d94e40e689
     "metadata": {},
     "output_type": "execute_result"
    }
   ],
   "source": [
    "dummy_clf_2_1 = DummyClassifier(strategy=\"uniform\")\n",
    "dummy_clf_2_1.fit(train_df.drop(columns=['score']), train_df['score'])"
   ]
  },
  {
   "cell_type": "code",
<<<<<<< HEAD
   "execution_count": 143,
=======
   "execution_count": 16,
>>>>>>> 8a8e7b9818e94b6e2cba9315de1c09d94e40e689
   "metadata": {},
   "outputs": [
    {
     "data": {
      "text/html": [
       "<div>\n",
       "<style scoped>\n",
       "    .dataframe tbody tr th:only-of-type {\n",
       "        vertical-align: middle;\n",
       "    }\n",
       "\n",
       "    .dataframe tbody tr th {\n",
       "        vertical-align: top;\n",
       "    }\n",
       "\n",
       "    .dataframe thead th {\n",
       "        text-align: right;\n",
       "    }\n",
       "</style>\n",
       "<table border=\"1\" class=\"dataframe\">\n",
       "  <thead>\n",
       "    <tr style=\"text-align: right;\">\n",
       "      <th></th>\n",
       "      <th>id</th>\n",
       "      <th>score</th>\n",
       "    </tr>\n",
       "  </thead>\n",
       "  <tbody>\n",
       "  </tbody>\n",
       "</table>\n",
       "</div>"
      ],
      "text/plain": [
       "Empty DataFrame\n",
       "Columns: [id, score]\n",
       "Index: []"
      ]
     },
<<<<<<< HEAD
     "execution_count": 143,
=======
     "execution_count": 16,
>>>>>>> 8a8e7b9818e94b6e2cba9315de1c09d94e40e689
     "metadata": {},
     "output_type": "execute_result"
    }
   ],
   "source": [
    "# Predict\n",
    "prediction = pd.DataFrame()\n",
    "prediction['id'] = cleaned_test.index\n",
    "prediction ['score']= dummy_clf.predict(cleaned_test)\n",
    "\n",
    "prediction.to_csv('../data/prediction_2_1.csv', index=False)\n",
    "\n",
    "prediction"
   ]
  },
  {
   "cell_type": "markdown",
   "metadata": {},
   "source": [
    "## Dummy Submission Checkpoint 2 (2)"
   ]
  },
  {
   "cell_type": "code",
<<<<<<< HEAD
   "execution_count": 144,
=======
   "execution_count": 17,
>>>>>>> 8a8e7b9818e94b6e2cba9315de1c09d94e40e689
   "metadata": {},
   "outputs": [
    {
     "data": {
      "text/html": [
<<<<<<< HEAD
       "<style>#sk-container-id-18 {color: black;}#sk-container-id-18 pre{padding: 0;}#sk-container-id-18 div.sk-toggleable {background-color: white;}#sk-container-id-18 label.sk-toggleable__label {cursor: pointer;display: block;width: 100%;margin-bottom: 0;padding: 0.3em;box-sizing: border-box;text-align: center;}#sk-container-id-18 label.sk-toggleable__label-arrow:before {content: \"▸\";float: left;margin-right: 0.25em;color: #696969;}#sk-container-id-18 label.sk-toggleable__label-arrow:hover:before {color: black;}#sk-container-id-18 div.sk-estimator:hover label.sk-toggleable__label-arrow:before {color: black;}#sk-container-id-18 div.sk-toggleable__content {max-height: 0;max-width: 0;overflow: hidden;text-align: left;background-color: #f0f8ff;}#sk-container-id-18 div.sk-toggleable__content pre {margin: 0.2em;color: black;border-radius: 0.25em;background-color: #f0f8ff;}#sk-container-id-18 input.sk-toggleable__control:checked~div.sk-toggleable__content {max-height: 200px;max-width: 100%;overflow: auto;}#sk-container-id-18 input.sk-toggleable__control:checked~label.sk-toggleable__label-arrow:before {content: \"▾\";}#sk-container-id-18 div.sk-estimator input.sk-toggleable__control:checked~label.sk-toggleable__label {background-color: #d4ebff;}#sk-container-id-18 div.sk-label input.sk-toggleable__control:checked~label.sk-toggleable__label {background-color: #d4ebff;}#sk-container-id-18 input.sk-hidden--visually {border: 0;clip: rect(1px 1px 1px 1px);clip: rect(1px, 1px, 1px, 1px);height: 1px;margin: -1px;overflow: hidden;padding: 0;position: absolute;width: 1px;}#sk-container-id-18 div.sk-estimator {font-family: monospace;background-color: #f0f8ff;border: 1px dotted black;border-radius: 0.25em;box-sizing: border-box;margin-bottom: 0.5em;}#sk-container-id-18 div.sk-estimator:hover {background-color: #d4ebff;}#sk-container-id-18 div.sk-parallel-item::after {content: \"\";width: 100%;border-bottom: 1px solid gray;flex-grow: 1;}#sk-container-id-18 div.sk-label:hover label.sk-toggleable__label {background-color: #d4ebff;}#sk-container-id-18 div.sk-serial::before {content: \"\";position: absolute;border-left: 1px solid gray;box-sizing: border-box;top: 0;bottom: 0;left: 50%;z-index: 0;}#sk-container-id-18 div.sk-serial {display: flex;flex-direction: column;align-items: center;background-color: white;padding-right: 0.2em;padding-left: 0.2em;position: relative;}#sk-container-id-18 div.sk-item {position: relative;z-index: 1;}#sk-container-id-18 div.sk-parallel {display: flex;align-items: stretch;justify-content: center;background-color: white;position: relative;}#sk-container-id-18 div.sk-item::before, #sk-container-id-18 div.sk-parallel-item::before {content: \"\";position: absolute;border-left: 1px solid gray;box-sizing: border-box;top: 0;bottom: 0;left: 50%;z-index: -1;}#sk-container-id-18 div.sk-parallel-item {display: flex;flex-direction: column;z-index: 1;position: relative;background-color: white;}#sk-container-id-18 div.sk-parallel-item:first-child::after {align-self: flex-end;width: 50%;}#sk-container-id-18 div.sk-parallel-item:last-child::after {align-self: flex-start;width: 50%;}#sk-container-id-18 div.sk-parallel-item:only-child::after {width: 0;}#sk-container-id-18 div.sk-dashed-wrapped {border: 1px dashed gray;margin: 0 0.4em 0.5em 0.4em;box-sizing: border-box;padding-bottom: 0.4em;background-color: white;}#sk-container-id-18 div.sk-label label {font-family: monospace;font-weight: bold;display: inline-block;line-height: 1.2em;}#sk-container-id-18 div.sk-label-container {text-align: center;}#sk-container-id-18 div.sk-container {/* jupyter's `normalize.less` sets `[hidden] { display: none; }` but bootstrap.min.css set `[hidden] { display: none !important; }` so we also need the `!important` here to be able to override the default hidden behavior on the sphinx rendered scikit-learn.org. See: https://github.com/scikit-learn/scikit-learn/issues/21755 */display: inline-block !important;position: relative;}#sk-container-id-18 div.sk-text-repr-fallback {display: none;}</style><div id=\"sk-container-id-18\" class=\"sk-top-container\"><div class=\"sk-text-repr-fallback\"><pre>RandomForestRegressor(random_state=48)</pre><b>In a Jupyter environment, please rerun this cell to show the HTML representation or trust the notebook. <br />On GitHub, the HTML representation is unable to render, please try loading this page with nbviewer.org.</b></div><div class=\"sk-container\" hidden><div class=\"sk-item\"><div class=\"sk-estimator sk-toggleable\"><input class=\"sk-toggleable__control sk-hidden--visually\" id=\"sk-estimator-id-18\" type=\"checkbox\" checked><label for=\"sk-estimator-id-18\" class=\"sk-toggleable__label sk-toggleable__label-arrow\">RandomForestRegressor</label><div class=\"sk-toggleable__content\"><pre>RandomForestRegressor(random_state=48)</pre></div></div></div></div></div>"
=======
       "<style>#sk-container-id-3 {color: black;background-color: white;}#sk-container-id-3 pre{padding: 0;}#sk-container-id-3 div.sk-toggleable {background-color: white;}#sk-container-id-3 label.sk-toggleable__label {cursor: pointer;display: block;width: 100%;margin-bottom: 0;padding: 0.3em;box-sizing: border-box;text-align: center;}#sk-container-id-3 label.sk-toggleable__label-arrow:before {content: \"▸\";float: left;margin-right: 0.25em;color: #696969;}#sk-container-id-3 label.sk-toggleable__label-arrow:hover:before {color: black;}#sk-container-id-3 div.sk-estimator:hover label.sk-toggleable__label-arrow:before {color: black;}#sk-container-id-3 div.sk-toggleable__content {max-height: 0;max-width: 0;overflow: hidden;text-align: left;background-color: #f0f8ff;}#sk-container-id-3 div.sk-toggleable__content pre {margin: 0.2em;color: black;border-radius: 0.25em;background-color: #f0f8ff;}#sk-container-id-3 input.sk-toggleable__control:checked~div.sk-toggleable__content {max-height: 200px;max-width: 100%;overflow: auto;}#sk-container-id-3 input.sk-toggleable__control:checked~label.sk-toggleable__label-arrow:before {content: \"▾\";}#sk-container-id-3 div.sk-estimator input.sk-toggleable__control:checked~label.sk-toggleable__label {background-color: #d4ebff;}#sk-container-id-3 div.sk-label input.sk-toggleable__control:checked~label.sk-toggleable__label {background-color: #d4ebff;}#sk-container-id-3 input.sk-hidden--visually {border: 0;clip: rect(1px 1px 1px 1px);clip: rect(1px, 1px, 1px, 1px);height: 1px;margin: -1px;overflow: hidden;padding: 0;position: absolute;width: 1px;}#sk-container-id-3 div.sk-estimator {font-family: monospace;background-color: #f0f8ff;border: 1px dotted black;border-radius: 0.25em;box-sizing: border-box;margin-bottom: 0.5em;}#sk-container-id-3 div.sk-estimator:hover {background-color: #d4ebff;}#sk-container-id-3 div.sk-parallel-item::after {content: \"\";width: 100%;border-bottom: 1px solid gray;flex-grow: 1;}#sk-container-id-3 div.sk-label:hover label.sk-toggleable__label {background-color: #d4ebff;}#sk-container-id-3 div.sk-serial::before {content: \"\";position: absolute;border-left: 1px solid gray;box-sizing: border-box;top: 0;bottom: 0;left: 50%;z-index: 0;}#sk-container-id-3 div.sk-serial {display: flex;flex-direction: column;align-items: center;background-color: white;padding-right: 0.2em;padding-left: 0.2em;position: relative;}#sk-container-id-3 div.sk-item {position: relative;z-index: 1;}#sk-container-id-3 div.sk-parallel {display: flex;align-items: stretch;justify-content: center;background-color: white;position: relative;}#sk-container-id-3 div.sk-item::before, #sk-container-id-3 div.sk-parallel-item::before {content: \"\";position: absolute;border-left: 1px solid gray;box-sizing: border-box;top: 0;bottom: 0;left: 50%;z-index: -1;}#sk-container-id-3 div.sk-parallel-item {display: flex;flex-direction: column;z-index: 1;position: relative;background-color: white;}#sk-container-id-3 div.sk-parallel-item:first-child::after {align-self: flex-end;width: 50%;}#sk-container-id-3 div.sk-parallel-item:last-child::after {align-self: flex-start;width: 50%;}#sk-container-id-3 div.sk-parallel-item:only-child::after {width: 0;}#sk-container-id-3 div.sk-dashed-wrapped {border: 1px dashed gray;margin: 0 0.4em 0.5em 0.4em;box-sizing: border-box;padding-bottom: 0.4em;background-color: white;}#sk-container-id-3 div.sk-label label {font-family: monospace;font-weight: bold;display: inline-block;line-height: 1.2em;}#sk-container-id-3 div.sk-label-container {text-align: center;}#sk-container-id-3 div.sk-container {/* jupyter's `normalize.less` sets `[hidden] { display: none; }` but bootstrap.min.css set `[hidden] { display: none !important; }` so we also need the `!important` here to be able to override the default hidden behavior on the sphinx rendered scikit-learn.org. See: https://github.com/scikit-learn/scikit-learn/issues/21755 */display: inline-block !important;position: relative;}#sk-container-id-3 div.sk-text-repr-fallback {display: none;}</style><div id=\"sk-container-id-3\" class=\"sk-top-container\"><div class=\"sk-text-repr-fallback\"><pre>DummyClassifier()</pre><b>In a Jupyter environment, please rerun this cell to show the HTML representation or trust the notebook. <br />On GitHub, the HTML representation is unable to render, please try loading this page with nbviewer.org.</b></div><div class=\"sk-container\" hidden><div class=\"sk-item\"><div class=\"sk-estimator sk-toggleable\"><input class=\"sk-toggleable__control sk-hidden--visually\" id=\"sk-estimator-id-3\" type=\"checkbox\" checked><label for=\"sk-estimator-id-3\" class=\"sk-toggleable__label sk-toggleable__label-arrow\">DummyClassifier</label><div class=\"sk-toggleable__content\"><pre>DummyClassifier()</pre></div></div></div></div></div>"
>>>>>>> 8a8e7b9818e94b6e2cba9315de1c09d94e40e689
      ],
      "text/plain": [
       "DummyClassifier()"
      ]
     },
<<<<<<< HEAD
     "execution_count": 144,
=======
     "execution_count": 17,
>>>>>>> 8a8e7b9818e94b6e2cba9315de1c09d94e40e689
     "metadata": {},
     "output_type": "execute_result"
    }
   ],
   "source": [
    "dummy_clf_2_2 = DummyClassifier(strategy=\"prior\")\n",
    "dummy_clf_2_2.fit(train_df.drop(columns=['score']), train_df['score'])"
   ]
  },
  {
   "cell_type": "code",
<<<<<<< HEAD
   "execution_count": 145,
=======
   "execution_count": 18,
>>>>>>> 8a8e7b9818e94b6e2cba9315de1c09d94e40e689
   "metadata": {},
   "outputs": [
    {
     "data": {
      "text/html": [
       "<div>\n",
       "<style scoped>\n",
       "    .dataframe tbody tr th:only-of-type {\n",
       "        vertical-align: middle;\n",
       "    }\n",
       "\n",
       "    .dataframe tbody tr th {\n",
       "        vertical-align: top;\n",
       "    }\n",
       "\n",
       "    .dataframe thead th {\n",
       "        text-align: right;\n",
       "    }\n",
       "</style>\n",
       "<table border=\"1\" class=\"dataframe\">\n",
       "  <thead>\n",
       "    <tr style=\"text-align: right;\">\n",
       "      <th></th>\n",
       "      <th>id</th>\n",
       "      <th>score</th>\n",
       "    </tr>\n",
       "  </thead>\n",
       "  <tbody>\n",
       "  </tbody>\n",
       "</table>\n",
       "</div>"
      ],
      "text/plain": [
       "Empty DataFrame\n",
       "Columns: [id, score]\n",
       "Index: []"
      ]
     },
<<<<<<< HEAD
     "execution_count": 145,
=======
     "execution_count": 18,
>>>>>>> 8a8e7b9818e94b6e2cba9315de1c09d94e40e689
     "metadata": {},
     "output_type": "execute_result"
    }
   ],
   "source": [
    "# Predict\n",
    "prediction = pd.DataFrame()\n",
    "prediction['id'] = cleaned_test.index\n",
    "prediction['score'] = dummy_clf.predict(cleaned_test)\n",
    "\n",
    "prediction.to_csv('../data/prediction_2_2.csv', index=False)\n",
    "\n",
    "prediction"
   ]
  },
  {
   "cell_type": "markdown",
   "metadata": {},
   "source": [
    "# Model Selection\n",
    "We will compare the efficiency of each of the following regression models:\n",
    "- Ordinary Least Squares\n",
    "- Ridge Regression\n",
    "- Support Vector\n",
    "- Decision Tree\n",
    "- Random Forest"
   ]
  },
  {
   "cell_type": "code",
   "execution_count": 22,
   "metadata": {},
   "outputs": [],
   "source": [
    "from sklearn import svm\n",
    "from sklearn.ensemble import AdaBoostRegressor, RandomForestRegressor, GradientBoostingRegressor\n",
    "from sklearn.neighbors import KNeighborsRegressor\n",
    "from sklearn.tree import DecisionTreeRegressor\n",
    "from sklearn import linear_model\n",
    "import xgboost as x\n",
    "models = {\n",
    "    linear_model.LinearRegression(),\n",
    "    linear_model.Ridge(),\n",
    "    DecisionTreeRegressor(max_depth=15),\n",
    "    RandomForestRegressor(n_estimators=50, max_depth=7, random_state=42),\n",
    "    svm.SVR(),\n",
    "    KNeighborsRegressor(n_neighbors=13),\n",
    "    AdaBoostRegressor(random_state=42),\n",
    "    GradientBoostingRegressor(),\n",
    "    x.XGBRegressor()\n",
    "}\n"
   ]
  },
  {
   "cell_type": "code",
   "execution_count": 25,
   "metadata": {},
   "outputs": [
    {
     "name": "stdout",
     "output_type": "stream",
     "text": [
      "MSE:\n",
      "SVR 0.482053007288904\n",
      "GradientBoostingRegressor 0.4738042549410575\n",
      "Ridge 0.5983881484888586\n",
      "XGBRegressor 0.5612403917046411\n",
      "DecisionTreeRegressor 1.0633872669165259\n",
      "RandomForestRegressor 0.4543232772860202\n",
      "AdaBoostRegressor 0.5173005645207474\n",
      "LinearRegression 0.5984132917496133\n",
      "KNeighborsRegressor 0.526243120665214\n"
     ]
    }
   ],
   "source": [
    "print(\"MSE:\")\n",
    "for model in models:\n",
    "    model.fit(X_train, y_train)\n",
    "    print(type(model).__name__, 1 - model.score(X_test, y_test))"
   ]
  },
  {
   "cell_type": "markdown",
   "metadata": {},
   "source": [
    "Random Forest parameter search:"
   ]
  },
  {
   "cell_type": "code",
   "execution_count": 26,
   "metadata": {},
   "outputs": [],
   "source": [
    "def report_best_scores(results, n_top=3):\n",
    "    for i in range(1, n_top + 1):\n",
    "        candidates = np.flatnonzero(results['rank_test_score'] == i)\n",
    "        for candidate in candidates:\n",
    "            print(\"Model with rank: {0}\".format(i))\n",
    "            print(\"Mean validation score: {0:.3f} (std: {1:.3f})\".format(\n",
    "                  results['mean_test_score'][candidate],\n",
    "                  results['std_test_score'][candidate]))\n",
    "            print(\"Parameters: {0}\".format(results['params'][candidate]))\n",
    "            print(\"\")"
   ]
  },
  {
   "cell_type": "code",
   "execution_count": 42,
   "metadata": {},
   "outputs": [
    {
     "name": "stdout",
     "output_type": "stream",
     "text": [
      "Fitting 3 folds for each of 100 candidates, totalling 300 fits\n",
      "Model with rank: 1\n",
      "Mean validation score: 0.468 (std: 0.030)\n",
      "Parameters: {'max_depth': 5, 'n_estimators': 63}\n",
      "\n",
      "Model with rank: 2\n",
      "Mean validation score: 0.468 (std: 0.031)\n",
      "Parameters: {'max_depth': 5, 'n_estimators': 66}\n",
      "\n",
      "Model with rank: 2\n",
      "Mean validation score: 0.468 (std: 0.031)\n",
      "Parameters: {'max_depth': 5, 'n_estimators': 66}\n",
      "\n",
      "Model with rank: 2\n",
      "Mean validation score: 0.468 (std: 0.031)\n",
      "Parameters: {'max_depth': 5, 'n_estimators': 66}\n",
      "\n"
     ]
    }
   ],
   "source": [
    "from scipy.stats import uniform, randint\n",
    "from sklearn.model_selection import RandomizedSearchCV\n",
    "\n",
    "\n",
    "params = {\n",
    "    \"max_depth\": randint(5, 8),\n",
    "    \"n_estimators\": randint(60, 80)\n",
    "}\n",
    "\n",
    "search = RandomizedSearchCV(RandomForestRegressor(random_state=42), param_distributions=params, random_state=42, n_iter=100, cv=3, verbose=1, n_jobs=1, return_train_score=True)\n",
    "\n",
    "search.fit(X_train, y_train)\n",
    "\n",
    "report_best_scores(search.cv_results_, 3)"
   ]
  },
  {
   "cell_type": "markdown",
   "metadata": {},
   "source": []
  },
  {
   "cell_type": "code",
   "execution_count": 43,
   "metadata": {},
   "outputs": [],
   "source": [
    "forests = [\n",
    "        \n",
    "        RandomForestRegressor(n_estimators=70, max_depth=7, random_state=42), #Best RFR found from manual search\n",
    "        RandomForestRegressor(n_estimators=66, max_depth=5, random_state=42),\n",
    "        RandomForestRegressor(n_estimators=63, max_depth=5, random_state=42),\n",
    "        RandomForestRegressor(n_estimators=66, max_depth=6, random_state=42),\n",
    "        RandomForestRegressor(n_estimators=63, max_depth=6, random_state=42),\n",
    "]"
   ]
  },
  {
   "cell_type": "code",
   "execution_count": 44,
   "metadata": {},
   "outputs": [
    {
     "name": "stdout",
     "output_type": "stream",
     "text": [
      "MSE, lower is better\n",
      "0 0.4537383120839711\n",
      "1 0.45296560016317233\n",
      "2 0.4532628790619486\n",
      "3 0.45344189551594816\n",
      "4 0.4531786420286814\n"
     ]
    }
   ],
   "source": [
    "print(\"MSE, lower is better\")\n",
    "for i in range(len(forests)):\n",
    "    f = forests[i]\n",
    "    f.fit(X_train, y_train)\n",
    "    print(i, 1 - f.score(X_test, y_test))"
   ]
  },
  {
   "cell_type": "markdown",
   "metadata": {},
   "source": [
    "A MSE of .453 when the scale is from 0 to 6 is not too bad considering how few features have been used, and especially since it was reduced from time-series to per-essay. So the best tree-based model we have found is a random forest with a maximum depth of 5 and 66 estimators, based on validation set scores. Let's check the predictions themselves to see what's happening:"
   ]
  },
  {
   "cell_type": "code",
   "execution_count": 55,
   "metadata": {},
   "outputs": [
    {
     "name": "stdout",
     "output_type": "stream",
     "text": [
      "0.5470343998368277\n"
     ]
    }
   ],
   "source": [
    "best_forest = RandomForestRegressor(n_estimators=66, max_depth=5, random_state=42)\n",
    "best_forest.fit(X_train, y_train)\n",
    "forest_preds = best_forest.predict(X_test)\n",
    "print(best_forest.score(X_test, y_test))"
   ]
  },
  {
   "cell_type": "code",
   "execution_count": 56,
   "metadata": {},
   "outputs": [
    {
     "data": {
      "text/plain": [
       "<function matplotlib.pyplot.show(close=None, block=None)>"
      ]
     },
     "execution_count": 56,
     "metadata": {},
     "output_type": "execute_result"
    },
    {
     "data": {
      "image/png": "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",
      "text/plain": [
       "<Figure size 640x480 with 1 Axes>"
      ]
     },
     "metadata": {},
     "output_type": "display_data"
    }
   ],
   "source": [
    "plt.hist(y_test, color='green', bins=12)\n",
    "plt.hist(forest_preds, color='red', bins=12)\n",
    "plt.show"
   ]
  }
 ],
 "metadata": {
  "kernelspec": {
   "display_name": "base",
   "language": "python",
   "name": "python3"
  },
  "language_info": {
   "codemirror_mode": {
    "name": "ipython",
    "version": 3
   },
   "file_extension": ".py",
   "mimetype": "text/x-python",
   "name": "python",
   "nbconvert_exporter": "python",
   "pygments_lexer": "ipython3",
   "version": "3.11.4"
  }
 },
 "nbformat": 4,
 "nbformat_minor": 2
}
