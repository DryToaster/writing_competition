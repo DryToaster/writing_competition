{
 "cells": [
  {
   "cell_type": "markdown",
   "metadata": {},
   "source": [
    "# CS 5665 - Introduction to Data Science"
   ]
  },
  {
   "cell_type": "markdown",
   "metadata": {},
   "source": [
    "## Preprocessing"
   ]
  },
  {
   "cell_type": "markdown",
   "metadata": {},
   "source": [
    "The data used in this project is from [this](https://www.kaggle.com/c/linking-writing-processes-to-writing-quality). "
   ]
  },
  {
   "cell_type": "markdown",
   "metadata": {},
   "source": [
    "### Introducing the dataset and packages"
   ]
  },
  {
   "cell_type": "code",
   "execution_count": 2,
   "metadata": {},
   "outputs": [],
   "source": [
    "# Import packages\n",
    "import matplotlib.pyplot as plt\n",
    "import numpy as np\n",
    "import pandas as pd\n",
    "from sklearn.compose import ColumnTransformer, make_column_transformer\n",
    "from sklearn.dummy import DummyClassifier\n",
    "from sklearn.impute import SimpleImputer\n",
    "from sklearn.model_selection import cross_val_score, cross_validate, train_test_split\n",
    "from sklearn.neighbors import KNeighborsClassifier\n",
    "from sklearn.pipeline import Pipeline, make_pipeline\n",
    "from sklearn.preprocessing import OneHotEncoder, StandardScaler, OrdinalEncoder\n",
    "from sklearn.svm import SVC\n",
    "from sklearn.tree import DecisionTreeClassifier"
   ]
  },
  {
   "cell_type": "code",
   "execution_count": 3,
   "metadata": {},
   "outputs": [],
   "source": [
    "# Import dataset\n",
    "train_df = pd.read_csv('../data/train_logs.csv')\n",
    "train_scores = pd.read_csv('../data/train_scores.csv')\n",
    "test_logs = pd.read_csv('../data/test_logs.csv')"
   ]
  },
  {
   "cell_type": "code",
   "execution_count": 4,
   "metadata": {},
   "outputs": [
    {
     "data": {
      "text/html": [
       "<div>\n",
       "<style scoped>\n",
       "    .dataframe tbody tr th:only-of-type {\n",
       "        vertical-align: middle;\n",
       "    }\n",
       "\n",
       "    .dataframe tbody tr th {\n",
       "        vertical-align: top;\n",
       "    }\n",
       "\n",
       "    .dataframe thead th {\n",
       "        text-align: right;\n",
       "    }\n",
       "</style>\n",
       "<table border=\"1\" class=\"dataframe\">\n",
       "  <thead>\n",
       "    <tr style=\"text-align: right;\">\n",
       "      <th></th>\n",
       "      <th>id</th>\n",
       "      <th>event_id</th>\n",
       "      <th>down_time</th>\n",
       "      <th>up_time</th>\n",
       "      <th>action_time</th>\n",
       "      <th>activity</th>\n",
       "      <th>down_event</th>\n",
       "      <th>up_event</th>\n",
       "      <th>text_change</th>\n",
       "      <th>cursor_position</th>\n",
       "      <th>word_count</th>\n",
       "    </tr>\n",
       "  </thead>\n",
       "  <tbody>\n",
       "    <tr>\n",
       "      <th>0</th>\n",
       "      <td>001519c8</td>\n",
       "      <td>1</td>\n",
       "      <td>4526</td>\n",
       "      <td>4557</td>\n",
       "      <td>31</td>\n",
       "      <td>Nonproduction</td>\n",
       "      <td>Leftclick</td>\n",
       "      <td>Leftclick</td>\n",
       "      <td>NoChange</td>\n",
       "      <td>0</td>\n",
       "      <td>0</td>\n",
       "    </tr>\n",
       "    <tr>\n",
       "      <th>1</th>\n",
       "      <td>001519c8</td>\n",
       "      <td>2</td>\n",
       "      <td>4558</td>\n",
       "      <td>4962</td>\n",
       "      <td>404</td>\n",
       "      <td>Nonproduction</td>\n",
       "      <td>Leftclick</td>\n",
       "      <td>Leftclick</td>\n",
       "      <td>NoChange</td>\n",
       "      <td>0</td>\n",
       "      <td>0</td>\n",
       "    </tr>\n",
       "    <tr>\n",
       "      <th>2</th>\n",
       "      <td>001519c8</td>\n",
       "      <td>3</td>\n",
       "      <td>106571</td>\n",
       "      <td>106571</td>\n",
       "      <td>0</td>\n",
       "      <td>Nonproduction</td>\n",
       "      <td>Shift</td>\n",
       "      <td>Shift</td>\n",
       "      <td>NoChange</td>\n",
       "      <td>0</td>\n",
       "      <td>0</td>\n",
       "    </tr>\n",
       "    <tr>\n",
       "      <th>3</th>\n",
       "      <td>001519c8</td>\n",
       "      <td>4</td>\n",
       "      <td>106686</td>\n",
       "      <td>106777</td>\n",
       "      <td>91</td>\n",
       "      <td>Input</td>\n",
       "      <td>q</td>\n",
       "      <td>q</td>\n",
       "      <td>q</td>\n",
       "      <td>1</td>\n",
       "      <td>1</td>\n",
       "    </tr>\n",
       "    <tr>\n",
       "      <th>4</th>\n",
       "      <td>001519c8</td>\n",
       "      <td>5</td>\n",
       "      <td>107196</td>\n",
       "      <td>107323</td>\n",
       "      <td>127</td>\n",
       "      <td>Input</td>\n",
       "      <td>q</td>\n",
       "      <td>q</td>\n",
       "      <td>q</td>\n",
       "      <td>2</td>\n",
       "      <td>1</td>\n",
       "    </tr>\n",
       "    <tr>\n",
       "      <th>5</th>\n",
       "      <td>001519c8</td>\n",
       "      <td>6</td>\n",
       "      <td>107296</td>\n",
       "      <td>107400</td>\n",
       "      <td>104</td>\n",
       "      <td>Input</td>\n",
       "      <td>q</td>\n",
       "      <td>q</td>\n",
       "      <td>q</td>\n",
       "      <td>3</td>\n",
       "      <td>1</td>\n",
       "    </tr>\n",
       "    <tr>\n",
       "      <th>6</th>\n",
       "      <td>001519c8</td>\n",
       "      <td>7</td>\n",
       "      <td>107469</td>\n",
       "      <td>107596</td>\n",
       "      <td>127</td>\n",
       "      <td>Input</td>\n",
       "      <td>q</td>\n",
       "      <td>q</td>\n",
       "      <td>q</td>\n",
       "      <td>4</td>\n",
       "      <td>1</td>\n",
       "    </tr>\n",
       "    <tr>\n",
       "      <th>7</th>\n",
       "      <td>001519c8</td>\n",
       "      <td>8</td>\n",
       "      <td>107659</td>\n",
       "      <td>107766</td>\n",
       "      <td>107</td>\n",
       "      <td>Input</td>\n",
       "      <td>q</td>\n",
       "      <td>q</td>\n",
       "      <td>q</td>\n",
       "      <td>5</td>\n",
       "      <td>1</td>\n",
       "    </tr>\n",
       "    <tr>\n",
       "      <th>8</th>\n",
       "      <td>001519c8</td>\n",
       "      <td>9</td>\n",
       "      <td>107743</td>\n",
       "      <td>107852</td>\n",
       "      <td>109</td>\n",
       "      <td>Input</td>\n",
       "      <td>q</td>\n",
       "      <td>q</td>\n",
       "      <td>q</td>\n",
       "      <td>6</td>\n",
       "      <td>1</td>\n",
       "    </tr>\n",
       "    <tr>\n",
       "      <th>9</th>\n",
       "      <td>001519c8</td>\n",
       "      <td>10</td>\n",
       "      <td>107840</td>\n",
       "      <td>107978</td>\n",
       "      <td>138</td>\n",
       "      <td>Input</td>\n",
       "      <td>Space</td>\n",
       "      <td>Space</td>\n",
       "      <td></td>\n",
       "      <td>7</td>\n",
       "      <td>1</td>\n",
       "    </tr>\n",
       "  </tbody>\n",
       "</table>\n",
       "</div>"
      ],
      "text/plain": [
       "         id  event_id  down_time  up_time  action_time       activity  \\\n",
       "0  001519c8         1       4526     4557           31  Nonproduction   \n",
       "1  001519c8         2       4558     4962          404  Nonproduction   \n",
       "2  001519c8         3     106571   106571            0  Nonproduction   \n",
       "3  001519c8         4     106686   106777           91          Input   \n",
       "4  001519c8         5     107196   107323          127          Input   \n",
       "5  001519c8         6     107296   107400          104          Input   \n",
       "6  001519c8         7     107469   107596          127          Input   \n",
       "7  001519c8         8     107659   107766          107          Input   \n",
       "8  001519c8         9     107743   107852          109          Input   \n",
       "9  001519c8        10     107840   107978          138          Input   \n",
       "\n",
       "  down_event   up_event text_change  cursor_position  word_count  \n",
       "0  Leftclick  Leftclick    NoChange                0           0  \n",
       "1  Leftclick  Leftclick    NoChange                0           0  \n",
       "2      Shift      Shift    NoChange                0           0  \n",
       "3          q          q           q                1           1  \n",
       "4          q          q           q                2           1  \n",
       "5          q          q           q                3           1  \n",
       "6          q          q           q                4           1  \n",
       "7          q          q           q                5           1  \n",
       "8          q          q           q                6           1  \n",
       "9      Space      Space                            7           1  "
      ]
     },
     "execution_count": 4,
     "metadata": {},
     "output_type": "execute_result"
    }
   ],
   "source": [
    "train_df.head(10)"
   ]
  },
  {
   "cell_type": "markdown",
   "metadata": {},
   "source": [
    "### Cleaning Data and Feature Engineering\n",
    "Before we can split, we need to convert the keystroke measurements to the appropriate metrics for each user. Due to these metric types originally being event dependent, we will be dropping 'cursor_position', 'down_event', 'up_event', and 'text_change.' "
   ]
  },
  {
   "cell_type": "code",
   "execution_count": 5,
   "metadata": {},
   "outputs": [
    {
     "name": "stderr",
     "output_type": "stream",
     "text": [
      "C:\\Users\\Nate\\AppData\\Local\\Temp\\ipykernel_4464\\2584426937.py:1: FutureWarning: The default value of numeric_only in DataFrameGroupBy.sum is deprecated. In a future version, numeric_only will default to False. Either specify numeric_only or select only columns which should be valid for the function.\n",
      "  cleaned_data = train_df.drop(columns=['cursor_position','down_event', 'up_event','text_change']).groupby('id').sum()\n",
      "C:\\Users\\Nate\\AppData\\Local\\Temp\\ipykernel_4464\\2584426937.py:12: FutureWarning: The default value of numeric_only in DataFrameGroupBy.sum is deprecated. In a future version, numeric_only will default to False. Either specify numeric_only or select only columns which should be valid for the function.\n",
      "  cleaned_test = test_logs.drop(columns=['cursor_position','down_event', 'up_event','text_change']).groupby('id').sum()\n"
     ]
    },
    {
     "data": {
      "text/html": [
       "<div>\n",
       "<style scoped>\n",
       "    .dataframe tbody tr th:only-of-type {\n",
       "        vertical-align: middle;\n",
       "    }\n",
       "\n",
       "    .dataframe tbody tr th {\n",
       "        vertical-align: top;\n",
       "    }\n",
       "\n",
       "    .dataframe thead th {\n",
       "        text-align: right;\n",
       "    }\n",
       "</style>\n",
       "<table border=\"1\" class=\"dataframe\">\n",
       "  <thead>\n",
       "    <tr style=\"text-align: right;\">\n",
       "      <th></th>\n",
       "      <th>event_id</th>\n",
       "      <th>down_time</th>\n",
       "      <th>up_time</th>\n",
       "      <th>action_time</th>\n",
       "      <th>word_count</th>\n",
       "      <th>min_down_time</th>\n",
       "      <th>max_up_time</th>\n",
       "      <th>min_action_time</th>\n",
       "      <th>max_action_time</th>\n",
       "      <th>score</th>\n",
       "    </tr>\n",
       "  </thead>\n",
       "  <tbody>\n",
       "    <tr>\n",
       "      <th>count</th>\n",
       "      <td>2.471000e+03</td>\n",
       "      <td>2.471000e+03</td>\n",
       "      <td>2.471000e+03</td>\n",
       "      <td>2.471000e+03</td>\n",
       "      <td>2.471000e+03</td>\n",
       "      <td>2.471000e+03</td>\n",
       "      <td>2.471000e+03</td>\n",
       "      <td>2471.000000</td>\n",
       "      <td>2471.000000</td>\n",
       "      <td>2471.000000</td>\n",
       "    </tr>\n",
       "    <tr>\n",
       "      <th>mean</th>\n",
       "      <td>7.033772e+06</td>\n",
       "      <td>2.699550e+09</td>\n",
       "      <td>2.699883e+09</td>\n",
       "      <td>3.336675e+05</td>\n",
       "      <td>7.874151e+05</td>\n",
       "      <td>4.239387e+04</td>\n",
       "      <td>1.769537e+06</td>\n",
       "      <td>0.116957</td>\n",
       "      <td>2989.163497</td>\n",
       "      <td>3.711251</td>\n",
       "    </tr>\n",
       "    <tr>\n",
       "      <th>std</th>\n",
       "      <td>7.095160e+06</td>\n",
       "      <td>1.727236e+09</td>\n",
       "      <td>1.727350e+09</td>\n",
       "      <td>1.575202e+05</td>\n",
       "      <td>7.298654e+05</td>\n",
       "      <td>1.658284e+05</td>\n",
       "      <td>2.760283e+05</td>\n",
       "      <td>1.289195</td>\n",
       "      <td>13084.145614</td>\n",
       "      <td>1.024937</td>\n",
       "    </tr>\n",
       "    <tr>\n",
       "      <th>min</th>\n",
       "      <td>3.445300e+04</td>\n",
       "      <td>1.723896e+07</td>\n",
       "      <td>1.725651e+07</td>\n",
       "      <td>1.345200e+04</td>\n",
       "      <td>5.044000e+03</td>\n",
       "      <td>1.060000e+02</td>\n",
       "      <td>2.295480e+05</td>\n",
       "      <td>0.000000</td>\n",
       "      <td>153.000000</td>\n",
       "      <td>0.500000</td>\n",
       "    </tr>\n",
       "    <tr>\n",
       "      <th>25%</th>\n",
       "      <td>2.406818e+06</td>\n",
       "      <td>1.552195e+09</td>\n",
       "      <td>1.552490e+09</td>\n",
       "      <td>2.111480e+05</td>\n",
       "      <td>2.945275e+05</td>\n",
       "      <td>2.131500e+03</td>\n",
       "      <td>1.754901e+06</td>\n",
       "      <td>0.000000</td>\n",
       "      <td>515.000000</td>\n",
       "      <td>3.000000</td>\n",
       "    </tr>\n",
       "    <tr>\n",
       "      <th>50%</th>\n",
       "      <td>4.750903e+06</td>\n",
       "      <td>2.315883e+09</td>\n",
       "      <td>2.316161e+09</td>\n",
       "      <td>3.049510e+05</td>\n",
       "      <td>5.629010e+05</td>\n",
       "      <td>2.114900e+04</td>\n",
       "      <td>1.792315e+06</td>\n",
       "      <td>0.000000</td>\n",
       "      <td>1278.000000</td>\n",
       "      <td>4.000000</td>\n",
       "    </tr>\n",
       "    <tr>\n",
       "      <th>75%</th>\n",
       "      <td>9.251451e+06</td>\n",
       "      <td>3.441110e+09</td>\n",
       "      <td>3.441537e+09</td>\n",
       "      <td>4.248140e+05</td>\n",
       "      <td>1.018560e+06</td>\n",
       "      <td>4.592500e+04</td>\n",
       "      <td>1.807774e+06</td>\n",
       "      <td>0.000000</td>\n",
       "      <td>2648.500000</td>\n",
       "      <td>4.500000</td>\n",
       "    </tr>\n",
       "    <tr>\n",
       "      <th>max</th>\n",
       "      <td>8.290213e+07</td>\n",
       "      <td>2.424430e+10</td>\n",
       "      <td>2.424494e+10</td>\n",
       "      <td>1.210508e+06</td>\n",
       "      <td>6.546254e+06</td>\n",
       "      <td>7.452424e+06</td>\n",
       "      <td>8.313707e+06</td>\n",
       "      <td>32.000000</td>\n",
       "      <td>447470.000000</td>\n",
       "      <td>6.000000</td>\n",
       "    </tr>\n",
       "  </tbody>\n",
       "</table>\n",
       "</div>"
      ],
      "text/plain": [
       "           event_id     down_time       up_time   action_time    word_count  \\\n",
       "count  2.471000e+03  2.471000e+03  2.471000e+03  2.471000e+03  2.471000e+03   \n",
       "mean   7.033772e+06  2.699550e+09  2.699883e+09  3.336675e+05  7.874151e+05   \n",
       "std    7.095160e+06  1.727236e+09  1.727350e+09  1.575202e+05  7.298654e+05   \n",
       "min    3.445300e+04  1.723896e+07  1.725651e+07  1.345200e+04  5.044000e+03   \n",
       "25%    2.406818e+06  1.552195e+09  1.552490e+09  2.111480e+05  2.945275e+05   \n",
       "50%    4.750903e+06  2.315883e+09  2.316161e+09  3.049510e+05  5.629010e+05   \n",
       "75%    9.251451e+06  3.441110e+09  3.441537e+09  4.248140e+05  1.018560e+06   \n",
       "max    8.290213e+07  2.424430e+10  2.424494e+10  1.210508e+06  6.546254e+06   \n",
       "\n",
       "       min_down_time   max_up_time  min_action_time  max_action_time  \\\n",
       "count   2.471000e+03  2.471000e+03      2471.000000      2471.000000   \n",
       "mean    4.239387e+04  1.769537e+06         0.116957      2989.163497   \n",
       "std     1.658284e+05  2.760283e+05         1.289195     13084.145614   \n",
       "min     1.060000e+02  2.295480e+05         0.000000       153.000000   \n",
       "25%     2.131500e+03  1.754901e+06         0.000000       515.000000   \n",
       "50%     2.114900e+04  1.792315e+06         0.000000      1278.000000   \n",
       "75%     4.592500e+04  1.807774e+06         0.000000      2648.500000   \n",
       "max     7.452424e+06  8.313707e+06        32.000000    447470.000000   \n",
       "\n",
       "             score  \n",
       "count  2471.000000  \n",
       "mean      3.711251  \n",
       "std       1.024937  \n",
       "min       0.500000  \n",
       "25%       3.000000  \n",
       "50%       4.000000  \n",
       "75%       4.500000  \n",
       "max       6.000000  "
      ]
     },
     "execution_count": 5,
     "metadata": {},
     "output_type": "execute_result"
    }
   ],
   "source": [
    "cleaned_data = train_df.drop(columns=['cursor_position','down_event', 'up_event','text_change']).groupby('id').sum() \n",
    "mins_data = train_df.drop(columns=['cursor_position','down_event', 'up_event','text_change']).groupby(\"id\").min()\n",
    "maxes_data = train_df.drop(columns=['cursor_position','down_event', 'up_event','text_change']).groupby(\"id\").max()\n",
    "\n",
    "cleaned_data['min_down_time'] = mins_data['down_time']\n",
    "cleaned_data['max_up_time'] = maxes_data['up_time']\n",
    "cleaned_data['min_action_time'] = mins_data['action_time']\n",
    "cleaned_data['max_action_time'] = maxes_data['action_time']\n",
    "cleaned_data = cleaned_data.merge(train_scores, on='id')\n",
    "\n",
    "\n",
    "cleaned_test = test_logs.drop(columns=['cursor_position','down_event', 'up_event','text_change']).groupby('id').sum()\n",
    "mins_test = test_logs.drop(columns=['cursor_position','down_event', 'up_event','text_change']).groupby(\"id\").min() \n",
    "maxes_test = test_logs.drop(columns=['cursor_position','down_event', 'up_event','text_change']).groupby(\"id\").max()\n",
    "\n",
    "cleaned_test['min_down_time'] = mins_test['down_time']\n",
    "cleaned_test['max_up_time'] = maxes_test['up_time']\n",
    "cleaned_test['min_action_time'] = mins_test['action_time']\n",
    "cleaned_test['max_action_time'] = maxes_test['action_time']\n",
    "cleaned_test = cleaned_test.merge(train_scores, on='id')\n",
    "\n",
    "cleaned_data.describe()"
   ]
  },
  {
   "cell_type": "markdown",
   "metadata": {},
   "source": [
    "In order to make the model as simple and linear as possible, each essay's event IDs, down/up times, action times, word counts, and scores have been made into one table by combining the metrics by essay ID (some by max, min, or sum, which is functionally the same as mean in these cases). This will result in massive losses in precision capability but should still produce reasonably good results while being massively faster to work with."
   ]
  },
  {
   "cell_type": "code",
   "execution_count": null,
   "metadata": {},
   "outputs": [],
   "source": []
  },
  {
   "cell_type": "markdown",
   "metadata": {},
   "source": [
    "### Preprocessing\n",
    "\n"
   ]
  },
  {
   "cell_type": "code",
   "execution_count": 6,
   "metadata": {},
   "outputs": [
    {
     "name": "stdout",
     "output_type": "stream",
     "text": [
      "<class 'pandas.core.frame.DataFrame'>\n",
      "Int64Index: 2471 entries, 0 to 2470\n",
      "Data columns (total 11 columns):\n",
      " #   Column           Non-Null Count  Dtype  \n",
      "---  ------           --------------  -----  \n",
      " 0   id               2471 non-null   object \n",
      " 1   event_id         2471 non-null   int64  \n",
      " 2   down_time        2471 non-null   int64  \n",
      " 3   up_time          2471 non-null   int64  \n",
      " 4   action_time      2471 non-null   int64  \n",
      " 5   word_count       2471 non-null   int64  \n",
      " 6   min_down_time    2471 non-null   int64  \n",
      " 7   max_up_time      2471 non-null   int64  \n",
      " 8   min_action_time  2471 non-null   int64  \n",
      " 9   max_action_time  2471 non-null   int64  \n",
      " 10  score            2471 non-null   float64\n",
      "dtypes: float64(1), int64(9), object(1)\n",
      "memory usage: 231.7+ KB\n"
     ]
    },
    {
     "data": {
      "text/plain": [
       "count    2.471000e+03\n",
       "mean     3.336675e+05\n",
       "std      1.575202e+05\n",
       "min      1.345200e+04\n",
       "25%      2.111480e+05\n",
       "50%      3.049510e+05\n",
       "75%      4.248140e+05\n",
       "max      1.210508e+06\n",
       "Name: action_time, dtype: float64"
      ]
     },
     "execution_count": 6,
     "metadata": {},
     "output_type": "execute_result"
    }
   ],
   "source": [
    "# Identify numeric feature statistics\n",
    "cleaned_data.info()\n",
    "cleaned_data.describe(include='all')\n",
    "\n",
    "# Checking for missing values\n",
    "cleaned_data.describe(include=\"all\").loc['count']\n",
    "cleaned_data[\"action_time\"].describe()"
   ]
  },
  {
   "cell_type": "code",
   "execution_count": 7,
   "metadata": {},
   "outputs": [],
   "source": [
    "drop_variables = ['id']\n",
    "passthrough_variables = ['score']\n",
    "scale_variables = ['event_id', 'down_time', 'up_time', 'action_time', 'word_count',\n",
    "                   'min_down_time', 'max_up_time', 'min_action_time', 'max_action_time']"
   ]
  },
  {
   "cell_type": "code",
   "execution_count": 8,
   "metadata": {},
   "outputs": [],
   "source": [
    "preprocessor = make_column_transformer(\n",
    "    ('drop', drop_variables),\n",
    "    (\"passthrough\", passthrough_variables),\n",
    "    (StandardScaler(), scale_variables)\n",
    ")"
   ]
  },
  {
   "cell_type": "code",
   "execution_count": 9,
   "metadata": {},
   "outputs": [],
   "source": [
    "transformed = preprocessor.fit_transform(cleaned_data)\n",
    "column_names = passthrough_variables + scale_variables"
   ]
  },
  {
   "cell_type": "code",
   "execution_count": 10,
   "metadata": {},
   "outputs": [
    {
     "data": {
      "text/html": [
       "<div>\n",
       "<style scoped>\n",
       "    .dataframe tbody tr th:only-of-type {\n",
       "        vertical-align: middle;\n",
       "    }\n",
       "\n",
       "    .dataframe tbody tr th {\n",
       "        vertical-align: top;\n",
       "    }\n",
       "\n",
       "    .dataframe thead th {\n",
       "        text-align: right;\n",
       "    }\n",
       "</style>\n",
       "<table border=\"1\" class=\"dataframe\">\n",
       "  <thead>\n",
       "    <tr style=\"text-align: right;\">\n",
       "      <th></th>\n",
       "      <th>score</th>\n",
       "      <th>event_id</th>\n",
       "      <th>down_time</th>\n",
       "      <th>up_time</th>\n",
       "      <th>action_time</th>\n",
       "      <th>word_count</th>\n",
       "      <th>min_down_time</th>\n",
       "      <th>max_up_time</th>\n",
       "      <th>min_action_time</th>\n",
       "      <th>max_action_time</th>\n",
       "    </tr>\n",
       "  </thead>\n",
       "  <tbody>\n",
       "    <tr>\n",
       "      <th>0</th>\n",
       "      <td>3.5</td>\n",
       "      <td>-0.530521</td>\n",
       "      <td>-0.307346</td>\n",
       "      <td>-0.307347</td>\n",
       "      <td>-0.231284</td>\n",
       "      <td>-0.630137</td>\n",
       "      <td>-0.228402</td>\n",
       "      <td>0.117518</td>\n",
       "      <td>-0.090739</td>\n",
       "      <td>-0.055817</td>\n",
       "    </tr>\n",
       "    <tr>\n",
       "      <th>1</th>\n",
       "      <td>3.5</td>\n",
       "      <td>-0.566908</td>\n",
       "      <td>-0.825925</td>\n",
       "      <td>-0.825904</td>\n",
       "      <td>-0.370037</td>\n",
       "      <td>-0.464609</td>\n",
       "      <td>-0.070997</td>\n",
       "      <td>0.070412</td>\n",
       "      <td>-0.090739</td>\n",
       "      <td>-0.094115</td>\n",
       "    </tr>\n",
       "    <tr>\n",
       "      <th>2</th>\n",
       "      <td>6.0</td>\n",
       "      <td>0.214492</td>\n",
       "      <td>0.421043</td>\n",
       "      <td>0.421065</td>\n",
       "      <td>0.555810</td>\n",
       "      <td>0.024893</td>\n",
       "      <td>-0.228915</td>\n",
       "      <td>0.007724</td>\n",
       "      <td>-0.090739</td>\n",
       "      <td>0.001211</td>\n",
       "    </tr>\n",
       "    <tr>\n",
       "      <th>3</th>\n",
       "      <td>2.0</td>\n",
       "      <td>-0.820785</td>\n",
       "      <td>-0.855492</td>\n",
       "      <td>-0.855519</td>\n",
       "      <td>-0.914808</td>\n",
       "      <td>-0.858118</td>\n",
       "      <td>-0.006025</td>\n",
       "      <td>-1.322843</td>\n",
       "      <td>-0.090739</td>\n",
       "      <td>-0.166889</td>\n",
       "    </tr>\n",
       "    <tr>\n",
       "      <th>4</th>\n",
       "      <td>4.0</td>\n",
       "      <td>-0.539847</td>\n",
       "      <td>-0.517724</td>\n",
       "      <td>-0.517701</td>\n",
       "      <td>-0.126774</td>\n",
       "      <td>-0.645222</td>\n",
       "      <td>0.217595</td>\n",
       "      <td>-0.387956</td>\n",
       "      <td>-0.090739</td>\n",
       "      <td>-0.174916</td>\n",
       "    </tr>\n",
       "    <tr>\n",
       "      <th>...</th>\n",
       "      <td>...</td>\n",
       "      <td>...</td>\n",
       "      <td>...</td>\n",
       "      <td>...</td>\n",
       "      <td>...</td>\n",
       "      <td>...</td>\n",
       "      <td>...</td>\n",
       "      <td>...</td>\n",
       "      <td>...</td>\n",
       "      <td>...</td>\n",
       "    </tr>\n",
       "    <tr>\n",
       "      <th>2466</th>\n",
       "      <td>3.5</td>\n",
       "      <td>0.591743</td>\n",
       "      <td>0.456797</td>\n",
       "      <td>0.456863</td>\n",
       "      <td>1.054063</td>\n",
       "      <td>0.585768</td>\n",
       "      <td>-0.120190</td>\n",
       "      <td>0.080123</td>\n",
       "      <td>-0.090739</td>\n",
       "      <td>0.025520</td>\n",
       "    </tr>\n",
       "    <tr>\n",
       "      <th>2467</th>\n",
       "      <td>4.0</td>\n",
       "      <td>-0.513420</td>\n",
       "      <td>-0.293632</td>\n",
       "      <td>-0.293682</td>\n",
       "      <td>-0.758447</td>\n",
       "      <td>-0.283245</td>\n",
       "      <td>-0.124623</td>\n",
       "      <td>0.107390</td>\n",
       "      <td>-0.090739</td>\n",
       "      <td>-0.141051</td>\n",
       "    </tr>\n",
       "    <tr>\n",
       "      <th>2468</th>\n",
       "      <td>1.5</td>\n",
       "      <td>-0.330046</td>\n",
       "      <td>0.616673</td>\n",
       "      <td>0.616573</td>\n",
       "      <td>-0.648223</td>\n",
       "      <td>-0.417585</td>\n",
       "      <td>-0.114068</td>\n",
       "      <td>0.687843</td>\n",
       "      <td>-0.090739</td>\n",
       "      <td>-0.185389</td>\n",
       "    </tr>\n",
       "    <tr>\n",
       "      <th>2469</th>\n",
       "      <td>5.0</td>\n",
       "      <td>-0.250485</td>\n",
       "      <td>-0.480910</td>\n",
       "      <td>-0.480904</td>\n",
       "      <td>-0.280837</td>\n",
       "      <td>-0.164217</td>\n",
       "      <td>-0.135763</td>\n",
       "      <td>-0.945867</td>\n",
       "      <td>-0.090739</td>\n",
       "      <td>-0.122399</td>\n",
       "    </tr>\n",
       "    <tr>\n",
       "      <th>2470</th>\n",
       "      <td>4.0</td>\n",
       "      <td>-0.068142</td>\n",
       "      <td>0.693473</td>\n",
       "      <td>0.693409</td>\n",
       "      <td>-0.205936</td>\n",
       "      <td>-0.557804</td>\n",
       "      <td>-0.016085</td>\n",
       "      <td>1.089224</td>\n",
       "      <td>-0.090739</td>\n",
       "      <td>-0.082113</td>\n",
       "    </tr>\n",
       "  </tbody>\n",
       "</table>\n",
       "<p>2471 rows × 10 columns</p>\n",
       "</div>"
      ],
      "text/plain": [
       "      score  event_id  down_time   up_time  action_time  word_count  \\\n",
       "0       3.5 -0.530521  -0.307346 -0.307347    -0.231284   -0.630137   \n",
       "1       3.5 -0.566908  -0.825925 -0.825904    -0.370037   -0.464609   \n",
       "2       6.0  0.214492   0.421043  0.421065     0.555810    0.024893   \n",
       "3       2.0 -0.820785  -0.855492 -0.855519    -0.914808   -0.858118   \n",
       "4       4.0 -0.539847  -0.517724 -0.517701    -0.126774   -0.645222   \n",
       "...     ...       ...        ...       ...          ...         ...   \n",
       "2466    3.5  0.591743   0.456797  0.456863     1.054063    0.585768   \n",
       "2467    4.0 -0.513420  -0.293632 -0.293682    -0.758447   -0.283245   \n",
       "2468    1.5 -0.330046   0.616673  0.616573    -0.648223   -0.417585   \n",
       "2469    5.0 -0.250485  -0.480910 -0.480904    -0.280837   -0.164217   \n",
       "2470    4.0 -0.068142   0.693473  0.693409    -0.205936   -0.557804   \n",
       "\n",
       "      min_down_time  max_up_time  min_action_time  max_action_time  \n",
       "0         -0.228402     0.117518        -0.090739        -0.055817  \n",
       "1         -0.070997     0.070412        -0.090739        -0.094115  \n",
       "2         -0.228915     0.007724        -0.090739         0.001211  \n",
       "3         -0.006025    -1.322843        -0.090739        -0.166889  \n",
       "4          0.217595    -0.387956        -0.090739        -0.174916  \n",
       "...             ...          ...              ...              ...  \n",
       "2466      -0.120190     0.080123        -0.090739         0.025520  \n",
       "2467      -0.124623     0.107390        -0.090739        -0.141051  \n",
       "2468      -0.114068     0.687843        -0.090739        -0.185389  \n",
       "2469      -0.135763    -0.945867        -0.090739        -0.122399  \n",
       "2470      -0.016085     1.089224        -0.090739        -0.082113  \n",
       "\n",
       "[2471 rows x 10 columns]"
      ]
     },
     "execution_count": 10,
     "metadata": {},
     "output_type": "execute_result"
    }
   ],
   "source": [
    "X_trained_transformed = pd.DataFrame(transformed, columns=column_names)\n",
    "X_trained_transformed"
   ]
  },
  {
   "cell_type": "markdown",
   "metadata": {},
   "source": [
    "### Splitting Data"
   ]
  },
  {
   "cell_type": "code",
   "execution_count": 11,
   "metadata": {},
   "outputs": [],
   "source": [
    "# for run time consistency, set seed\n",
    "np.random.seed(42)\n",
    "train_df, test_df = train_test_split(X_trained_transformed, test_size=0.2, random_state=42)\n",
    "y_train = train_df['score']\n",
    "X_train = train_df.drop(columns='score')\n",
    "y_test = test_df['score']\n",
    "X_test = test_df.drop(columns='score')\n",
    "\n"
   ]
  },
  {
   "cell_type": "markdown",
   "metadata": {},
   "source": [
    "### Dummy Submission"
   ]
  },
  {
   "cell_type": "code",
   "execution_count": 12,
   "metadata": {},
   "outputs": [
    {
     "data": {
      "text/html": [
       "<style>#sk-container-id-1 {color: black;background-color: white;}#sk-container-id-1 pre{padding: 0;}#sk-container-id-1 div.sk-toggleable {background-color: white;}#sk-container-id-1 label.sk-toggleable__label {cursor: pointer;display: block;width: 100%;margin-bottom: 0;padding: 0.3em;box-sizing: border-box;text-align: center;}#sk-container-id-1 label.sk-toggleable__label-arrow:before {content: \"▸\";float: left;margin-right: 0.25em;color: #696969;}#sk-container-id-1 label.sk-toggleable__label-arrow:hover:before {color: black;}#sk-container-id-1 div.sk-estimator:hover label.sk-toggleable__label-arrow:before {color: black;}#sk-container-id-1 div.sk-toggleable__content {max-height: 0;max-width: 0;overflow: hidden;text-align: left;background-color: #f0f8ff;}#sk-container-id-1 div.sk-toggleable__content pre {margin: 0.2em;color: black;border-radius: 0.25em;background-color: #f0f8ff;}#sk-container-id-1 input.sk-toggleable__control:checked~div.sk-toggleable__content {max-height: 200px;max-width: 100%;overflow: auto;}#sk-container-id-1 input.sk-toggleable__control:checked~label.sk-toggleable__label-arrow:before {content: \"▾\";}#sk-container-id-1 div.sk-estimator input.sk-toggleable__control:checked~label.sk-toggleable__label {background-color: #d4ebff;}#sk-container-id-1 div.sk-label input.sk-toggleable__control:checked~label.sk-toggleable__label {background-color: #d4ebff;}#sk-container-id-1 input.sk-hidden--visually {border: 0;clip: rect(1px 1px 1px 1px);clip: rect(1px, 1px, 1px, 1px);height: 1px;margin: -1px;overflow: hidden;padding: 0;position: absolute;width: 1px;}#sk-container-id-1 div.sk-estimator {font-family: monospace;background-color: #f0f8ff;border: 1px dotted black;border-radius: 0.25em;box-sizing: border-box;margin-bottom: 0.5em;}#sk-container-id-1 div.sk-estimator:hover {background-color: #d4ebff;}#sk-container-id-1 div.sk-parallel-item::after {content: \"\";width: 100%;border-bottom: 1px solid gray;flex-grow: 1;}#sk-container-id-1 div.sk-label:hover label.sk-toggleable__label {background-color: #d4ebff;}#sk-container-id-1 div.sk-serial::before {content: \"\";position: absolute;border-left: 1px solid gray;box-sizing: border-box;top: 0;bottom: 0;left: 50%;z-index: 0;}#sk-container-id-1 div.sk-serial {display: flex;flex-direction: column;align-items: center;background-color: white;padding-right: 0.2em;padding-left: 0.2em;position: relative;}#sk-container-id-1 div.sk-item {position: relative;z-index: 1;}#sk-container-id-1 div.sk-parallel {display: flex;align-items: stretch;justify-content: center;background-color: white;position: relative;}#sk-container-id-1 div.sk-item::before, #sk-container-id-1 div.sk-parallel-item::before {content: \"\";position: absolute;border-left: 1px solid gray;box-sizing: border-box;top: 0;bottom: 0;left: 50%;z-index: -1;}#sk-container-id-1 div.sk-parallel-item {display: flex;flex-direction: column;z-index: 1;position: relative;background-color: white;}#sk-container-id-1 div.sk-parallel-item:first-child::after {align-self: flex-end;width: 50%;}#sk-container-id-1 div.sk-parallel-item:last-child::after {align-self: flex-start;width: 50%;}#sk-container-id-1 div.sk-parallel-item:only-child::after {width: 0;}#sk-container-id-1 div.sk-dashed-wrapped {border: 1px dashed gray;margin: 0 0.4em 0.5em 0.4em;box-sizing: border-box;padding-bottom: 0.4em;background-color: white;}#sk-container-id-1 div.sk-label label {font-family: monospace;font-weight: bold;display: inline-block;line-height: 1.2em;}#sk-container-id-1 div.sk-label-container {text-align: center;}#sk-container-id-1 div.sk-container {/* jupyter's `normalize.less` sets `[hidden] { display: none; }` but bootstrap.min.css set `[hidden] { display: none !important; }` so we also need the `!important` here to be able to override the default hidden behavior on the sphinx rendered scikit-learn.org. See: https://github.com/scikit-learn/scikit-learn/issues/21755 */display: inline-block !important;position: relative;}#sk-container-id-1 div.sk-text-repr-fallback {display: none;}</style><div id=\"sk-container-id-1\" class=\"sk-top-container\"><div class=\"sk-text-repr-fallback\"><pre>DummyClassifier(strategy=&#x27;most_frequent&#x27;)</pre><b>In a Jupyter environment, please rerun this cell to show the HTML representation or trust the notebook. <br />On GitHub, the HTML representation is unable to render, please try loading this page with nbviewer.org.</b></div><div class=\"sk-container\" hidden><div class=\"sk-item\"><div class=\"sk-estimator sk-toggleable\"><input class=\"sk-toggleable__control sk-hidden--visually\" id=\"sk-estimator-id-1\" type=\"checkbox\" checked><label for=\"sk-estimator-id-1\" class=\"sk-toggleable__label sk-toggleable__label-arrow\">DummyClassifier</label><div class=\"sk-toggleable__content\"><pre>DummyClassifier(strategy=&#x27;most_frequent&#x27;)</pre></div></div></div></div></div>"
      ],
      "text/plain": [
       "DummyClassifier(strategy='most_frequent')"
      ]
     },
     "execution_count": 12,
     "metadata": {},
     "output_type": "execute_result"
    }
   ],
   "source": [
    "dummy_clf = DummyClassifier(strategy=\"most_frequent\")\n",
    "dummy_clf.fit(train_df.drop(columns=['score']), train_df['score'])"
   ]
  },
  {
   "cell_type": "code",
   "execution_count": 13,
   "metadata": {},
   "outputs": [
    {
     "name": "stdout",
     "output_type": "stream",
     "text": [
      "<class 'pandas.core.frame.DataFrame'>\n",
      "Index: 0 entries\n",
      "Data columns (total 2 columns):\n",
      " #   Column  Non-Null Count  Dtype  \n",
      "---  ------  --------------  -----  \n",
      " 0   id      0 non-null      object \n",
      " 1   score   0 non-null      float64\n",
      "dtypes: float64(1), object(1)\n",
      "memory usage: 0.0+ bytes\n",
      "None\n"
     ]
    }
   ],
   "source": [
    "# Predict\n",
    "prediction = pd.DataFrame()\n",
    "prediction['id'] = cleaned_test.index\n",
    "prediction ['score']= dummy_clf.predict(cleaned_test)\n",
    "print(prediction.info())\n",
    "\n",
    "prediction.to_csv('../data/prediction.csv', index=False)"
   ]
  },
  {
   "cell_type": "markdown",
   "metadata": {},
   "source": [
    "## Dummy Submission Checkpoint 2 (1)"
   ]
  },
  {
   "cell_type": "code",
   "execution_count": 14,
   "metadata": {},
   "outputs": [
    {
     "data": {
      "text/html": [
       "<style>#sk-container-id-2 {color: black;background-color: white;}#sk-container-id-2 pre{padding: 0;}#sk-container-id-2 div.sk-toggleable {background-color: white;}#sk-container-id-2 label.sk-toggleable__label {cursor: pointer;display: block;width: 100%;margin-bottom: 0;padding: 0.3em;box-sizing: border-box;text-align: center;}#sk-container-id-2 label.sk-toggleable__label-arrow:before {content: \"▸\";float: left;margin-right: 0.25em;color: #696969;}#sk-container-id-2 label.sk-toggleable__label-arrow:hover:before {color: black;}#sk-container-id-2 div.sk-estimator:hover label.sk-toggleable__label-arrow:before {color: black;}#sk-container-id-2 div.sk-toggleable__content {max-height: 0;max-width: 0;overflow: hidden;text-align: left;background-color: #f0f8ff;}#sk-container-id-2 div.sk-toggleable__content pre {margin: 0.2em;color: black;border-radius: 0.25em;background-color: #f0f8ff;}#sk-container-id-2 input.sk-toggleable__control:checked~div.sk-toggleable__content {max-height: 200px;max-width: 100%;overflow: auto;}#sk-container-id-2 input.sk-toggleable__control:checked~label.sk-toggleable__label-arrow:before {content: \"▾\";}#sk-container-id-2 div.sk-estimator input.sk-toggleable__control:checked~label.sk-toggleable__label {background-color: #d4ebff;}#sk-container-id-2 div.sk-label input.sk-toggleable__control:checked~label.sk-toggleable__label {background-color: #d4ebff;}#sk-container-id-2 input.sk-hidden--visually {border: 0;clip: rect(1px 1px 1px 1px);clip: rect(1px, 1px, 1px, 1px);height: 1px;margin: -1px;overflow: hidden;padding: 0;position: absolute;width: 1px;}#sk-container-id-2 div.sk-estimator {font-family: monospace;background-color: #f0f8ff;border: 1px dotted black;border-radius: 0.25em;box-sizing: border-box;margin-bottom: 0.5em;}#sk-container-id-2 div.sk-estimator:hover {background-color: #d4ebff;}#sk-container-id-2 div.sk-parallel-item::after {content: \"\";width: 100%;border-bottom: 1px solid gray;flex-grow: 1;}#sk-container-id-2 div.sk-label:hover label.sk-toggleable__label {background-color: #d4ebff;}#sk-container-id-2 div.sk-serial::before {content: \"\";position: absolute;border-left: 1px solid gray;box-sizing: border-box;top: 0;bottom: 0;left: 50%;z-index: 0;}#sk-container-id-2 div.sk-serial {display: flex;flex-direction: column;align-items: center;background-color: white;padding-right: 0.2em;padding-left: 0.2em;position: relative;}#sk-container-id-2 div.sk-item {position: relative;z-index: 1;}#sk-container-id-2 div.sk-parallel {display: flex;align-items: stretch;justify-content: center;background-color: white;position: relative;}#sk-container-id-2 div.sk-item::before, #sk-container-id-2 div.sk-parallel-item::before {content: \"\";position: absolute;border-left: 1px solid gray;box-sizing: border-box;top: 0;bottom: 0;left: 50%;z-index: -1;}#sk-container-id-2 div.sk-parallel-item {display: flex;flex-direction: column;z-index: 1;position: relative;background-color: white;}#sk-container-id-2 div.sk-parallel-item:first-child::after {align-self: flex-end;width: 50%;}#sk-container-id-2 div.sk-parallel-item:last-child::after {align-self: flex-start;width: 50%;}#sk-container-id-2 div.sk-parallel-item:only-child::after {width: 0;}#sk-container-id-2 div.sk-dashed-wrapped {border: 1px dashed gray;margin: 0 0.4em 0.5em 0.4em;box-sizing: border-box;padding-bottom: 0.4em;background-color: white;}#sk-container-id-2 div.sk-label label {font-family: monospace;font-weight: bold;display: inline-block;line-height: 1.2em;}#sk-container-id-2 div.sk-label-container {text-align: center;}#sk-container-id-2 div.sk-container {/* jupyter's `normalize.less` sets `[hidden] { display: none; }` but bootstrap.min.css set `[hidden] { display: none !important; }` so we also need the `!important` here to be able to override the default hidden behavior on the sphinx rendered scikit-learn.org. See: https://github.com/scikit-learn/scikit-learn/issues/21755 */display: inline-block !important;position: relative;}#sk-container-id-2 div.sk-text-repr-fallback {display: none;}</style><div id=\"sk-container-id-2\" class=\"sk-top-container\"><div class=\"sk-text-repr-fallback\"><pre>DummyClassifier(strategy=&#x27;uniform&#x27;)</pre><b>In a Jupyter environment, please rerun this cell to show the HTML representation or trust the notebook. <br />On GitHub, the HTML representation is unable to render, please try loading this page with nbviewer.org.</b></div><div class=\"sk-container\" hidden><div class=\"sk-item\"><div class=\"sk-estimator sk-toggleable\"><input class=\"sk-toggleable__control sk-hidden--visually\" id=\"sk-estimator-id-2\" type=\"checkbox\" checked><label for=\"sk-estimator-id-2\" class=\"sk-toggleable__label sk-toggleable__label-arrow\">DummyClassifier</label><div class=\"sk-toggleable__content\"><pre>DummyClassifier(strategy=&#x27;uniform&#x27;)</pre></div></div></div></div></div>"
      ],
      "text/plain": [
       "DummyClassifier(strategy='uniform')"
      ]
     },
     "execution_count": 14,
     "metadata": {},
     "output_type": "execute_result"
    }
   ],
   "source": [
    "dummy_clf_2_1 = DummyClassifier(strategy=\"uniform\")\n",
    "dummy_clf_2_1.fit(train_df.drop(columns=['score']), train_df['score'])"
   ]
  },
  {
   "cell_type": "code",
   "execution_count": 15,
   "metadata": {},
   "outputs": [
    {
     "data": {
      "text/html": [
       "<div>\n",
       "<style scoped>\n",
       "    .dataframe tbody tr th:only-of-type {\n",
       "        vertical-align: middle;\n",
       "    }\n",
       "\n",
       "    .dataframe tbody tr th {\n",
       "        vertical-align: top;\n",
       "    }\n",
       "\n",
       "    .dataframe thead th {\n",
       "        text-align: right;\n",
       "    }\n",
       "</style>\n",
       "<table border=\"1\" class=\"dataframe\">\n",
       "  <thead>\n",
       "    <tr style=\"text-align: right;\">\n",
       "      <th></th>\n",
       "      <th>id</th>\n",
       "      <th>score</th>\n",
       "    </tr>\n",
       "  </thead>\n",
       "  <tbody>\n",
       "  </tbody>\n",
       "</table>\n",
       "</div>"
      ],
      "text/plain": [
       "Empty DataFrame\n",
       "Columns: [id, score]\n",
       "Index: []"
      ]
     },
     "execution_count": 15,
     "metadata": {},
     "output_type": "execute_result"
    }
   ],
   "source": [
    "# Predict\n",
    "prediction = pd.DataFrame()\n",
    "prediction['id'] = cleaned_test.index\n",
    "prediction ['score']= dummy_clf.predict(cleaned_test)\n",
    "\n",
    "prediction.to_csv('../data/prediction_2_1.csv', index=False)\n",
    "\n",
    "prediction"
   ]
  },
  {
   "cell_type": "markdown",
   "metadata": {},
   "source": [
    "## Dummy Submission Checkpoint 2 (2)"
   ]
  },
  {
   "cell_type": "code",
   "execution_count": 16,
   "metadata": {},
   "outputs": [
    {
     "data": {
      "text/html": [
       "<style>#sk-container-id-3 {color: black;background-color: white;}#sk-container-id-3 pre{padding: 0;}#sk-container-id-3 div.sk-toggleable {background-color: white;}#sk-container-id-3 label.sk-toggleable__label {cursor: pointer;display: block;width: 100%;margin-bottom: 0;padding: 0.3em;box-sizing: border-box;text-align: center;}#sk-container-id-3 label.sk-toggleable__label-arrow:before {content: \"▸\";float: left;margin-right: 0.25em;color: #696969;}#sk-container-id-3 label.sk-toggleable__label-arrow:hover:before {color: black;}#sk-container-id-3 div.sk-estimator:hover label.sk-toggleable__label-arrow:before {color: black;}#sk-container-id-3 div.sk-toggleable__content {max-height: 0;max-width: 0;overflow: hidden;text-align: left;background-color: #f0f8ff;}#sk-container-id-3 div.sk-toggleable__content pre {margin: 0.2em;color: black;border-radius: 0.25em;background-color: #f0f8ff;}#sk-container-id-3 input.sk-toggleable__control:checked~div.sk-toggleable__content {max-height: 200px;max-width: 100%;overflow: auto;}#sk-container-id-3 input.sk-toggleable__control:checked~label.sk-toggleable__label-arrow:before {content: \"▾\";}#sk-container-id-3 div.sk-estimator input.sk-toggleable__control:checked~label.sk-toggleable__label {background-color: #d4ebff;}#sk-container-id-3 div.sk-label input.sk-toggleable__control:checked~label.sk-toggleable__label {background-color: #d4ebff;}#sk-container-id-3 input.sk-hidden--visually {border: 0;clip: rect(1px 1px 1px 1px);clip: rect(1px, 1px, 1px, 1px);height: 1px;margin: -1px;overflow: hidden;padding: 0;position: absolute;width: 1px;}#sk-container-id-3 div.sk-estimator {font-family: monospace;background-color: #f0f8ff;border: 1px dotted black;border-radius: 0.25em;box-sizing: border-box;margin-bottom: 0.5em;}#sk-container-id-3 div.sk-estimator:hover {background-color: #d4ebff;}#sk-container-id-3 div.sk-parallel-item::after {content: \"\";width: 100%;border-bottom: 1px solid gray;flex-grow: 1;}#sk-container-id-3 div.sk-label:hover label.sk-toggleable__label {background-color: #d4ebff;}#sk-container-id-3 div.sk-serial::before {content: \"\";position: absolute;border-left: 1px solid gray;box-sizing: border-box;top: 0;bottom: 0;left: 50%;z-index: 0;}#sk-container-id-3 div.sk-serial {display: flex;flex-direction: column;align-items: center;background-color: white;padding-right: 0.2em;padding-left: 0.2em;position: relative;}#sk-container-id-3 div.sk-item {position: relative;z-index: 1;}#sk-container-id-3 div.sk-parallel {display: flex;align-items: stretch;justify-content: center;background-color: white;position: relative;}#sk-container-id-3 div.sk-item::before, #sk-container-id-3 div.sk-parallel-item::before {content: \"\";position: absolute;border-left: 1px solid gray;box-sizing: border-box;top: 0;bottom: 0;left: 50%;z-index: -1;}#sk-container-id-3 div.sk-parallel-item {display: flex;flex-direction: column;z-index: 1;position: relative;background-color: white;}#sk-container-id-3 div.sk-parallel-item:first-child::after {align-self: flex-end;width: 50%;}#sk-container-id-3 div.sk-parallel-item:last-child::after {align-self: flex-start;width: 50%;}#sk-container-id-3 div.sk-parallel-item:only-child::after {width: 0;}#sk-container-id-3 div.sk-dashed-wrapped {border: 1px dashed gray;margin: 0 0.4em 0.5em 0.4em;box-sizing: border-box;padding-bottom: 0.4em;background-color: white;}#sk-container-id-3 div.sk-label label {font-family: monospace;font-weight: bold;display: inline-block;line-height: 1.2em;}#sk-container-id-3 div.sk-label-container {text-align: center;}#sk-container-id-3 div.sk-container {/* jupyter's `normalize.less` sets `[hidden] { display: none; }` but bootstrap.min.css set `[hidden] { display: none !important; }` so we also need the `!important` here to be able to override the default hidden behavior on the sphinx rendered scikit-learn.org. See: https://github.com/scikit-learn/scikit-learn/issues/21755 */display: inline-block !important;position: relative;}#sk-container-id-3 div.sk-text-repr-fallback {display: none;}</style><div id=\"sk-container-id-3\" class=\"sk-top-container\"><div class=\"sk-text-repr-fallback\"><pre>DummyClassifier()</pre><b>In a Jupyter environment, please rerun this cell to show the HTML representation or trust the notebook. <br />On GitHub, the HTML representation is unable to render, please try loading this page with nbviewer.org.</b></div><div class=\"sk-container\" hidden><div class=\"sk-item\"><div class=\"sk-estimator sk-toggleable\"><input class=\"sk-toggleable__control sk-hidden--visually\" id=\"sk-estimator-id-3\" type=\"checkbox\" checked><label for=\"sk-estimator-id-3\" class=\"sk-toggleable__label sk-toggleable__label-arrow\">DummyClassifier</label><div class=\"sk-toggleable__content\"><pre>DummyClassifier()</pre></div></div></div></div></div>"
      ],
      "text/plain": [
       "DummyClassifier()"
      ]
     },
     "execution_count": 16,
     "metadata": {},
     "output_type": "execute_result"
    }
   ],
   "source": [
    "dummy_clf_2_2 = DummyClassifier(strategy=\"prior\")\n",
    "dummy_clf_2_2.fit(train_df.drop(columns=['score']), train_df['score'])"
   ]
  },
  {
   "cell_type": "code",
   "execution_count": 17,
   "metadata": {},
   "outputs": [
    {
     "data": {
      "text/html": [
       "<div>\n",
       "<style scoped>\n",
       "    .dataframe tbody tr th:only-of-type {\n",
       "        vertical-align: middle;\n",
       "    }\n",
       "\n",
       "    .dataframe tbody tr th {\n",
       "        vertical-align: top;\n",
       "    }\n",
       "\n",
       "    .dataframe thead th {\n",
       "        text-align: right;\n",
       "    }\n",
       "</style>\n",
       "<table border=\"1\" class=\"dataframe\">\n",
       "  <thead>\n",
       "    <tr style=\"text-align: right;\">\n",
       "      <th></th>\n",
       "      <th>id</th>\n",
       "      <th>score</th>\n",
       "    </tr>\n",
       "  </thead>\n",
       "  <tbody>\n",
       "  </tbody>\n",
       "</table>\n",
       "</div>"
      ],
      "text/plain": [
       "Empty DataFrame\n",
       "Columns: [id, score]\n",
       "Index: []"
      ]
     },
     "execution_count": 17,
     "metadata": {},
     "output_type": "execute_result"
    }
   ],
   "source": [
    "# Predict\n",
    "prediction = pd.DataFrame()\n",
    "prediction['id'] = cleaned_test.index\n",
    "prediction['score'] = dummy_clf.predict(cleaned_test)\n",
    "\n",
    "prediction.to_csv('../data/prediction_2_2.csv', index=False)\n",
    "\n",
    "prediction"
   ]
  },
  {
   "cell_type": "markdown",
   "metadata": {},
   "source": [
    "# Model Selection\n",
    "We will compare the efficiency of each of the following regression models:\n",
    "- Ordinary Least Squares\n",
    "- Ridge Regression\n",
    "- Support Vector\n",
    "- Decision Tree\n",
    "- Random Forest"
   ]
  },
  {
   "cell_type": "code",
   "execution_count": 18,
   "metadata": {},
   "outputs": [],
   "source": [
    "from sklearn import svm\n",
    "from sklearn.ensemble import AdaBoostRegressor, RandomForestRegressor, GradientBoostingRegressor\n",
    "from sklearn.neighbors import KNeighborsRegressor\n",
    "from sklearn.tree import DecisionTreeRegressor\n",
    "from sklearn import linear_model\n",
    "import xgboost as x\n",
    "models = {\n",
    "    linear_model.LinearRegression(),\n",
    "    linear_model.Ridge(),\n",
    "    DecisionTreeRegressor(max_depth=15),\n",
    "    RandomForestRegressor(n_estimators=50, max_depth=7, random_state=42),\n",
    "    svm.SVR(),\n",
    "    KNeighborsRegressor(n_neighbors=13),\n",
    "    AdaBoostRegressor(random_state=42),\n",
    "    GradientBoostingRegressor(),\n",
    "    x.XGBRegressor()\n",
    "}\n"
   ]
  },
  {
   "cell_type": "code",
   "execution_count": 19,
   "metadata": {},
   "outputs": [
    {
     "name": "stdout",
     "output_type": "stream",
     "text": [
      "MSE:\n",
      "SVR 0.482053007288904\n"
     ]
    },
    {
     "name": "stdout",
     "output_type": "stream",
     "text": [
      "RandomForestRegressor 0.4543232772860202\n",
      "AdaBoostRegressor 0.5173005645207474\n",
      "XGBRegressor 0.5612403917046411\n",
      "KNeighborsRegressor 0.526243120665214\n",
      "LinearRegression 0.5984132917496133\n",
      "Ridge 0.5983881484888586\n",
      "GradientBoostingRegressor 0.47421239353922895\n",
      "DecisionTreeRegressor 1.006173312933945\n"
     ]
    }
   ],
   "source": [
    "print(\"MSE:\")\n",
    "for model in models:\n",
    "    model.fit(X_train, y_train)\n",
    "    print(type(model).__name__, 1 - model.score(X_test, y_test))"
   ]
  },
  {
   "cell_type": "markdown",
   "metadata": {},
   "source": [
    "Random Forest parameter search:"
   ]
  },
  {
   "cell_type": "code",
   "execution_count": 20,
   "metadata": {},
   "outputs": [],
   "source": [
    "def report_best_scores(results, n_top=3):\n",
    "    for i in range(1, n_top + 1):\n",
    "        candidates = np.flatnonzero(results['rank_test_score'] == i)\n",
    "        for candidate in candidates:\n",
    "            print(\"Model with rank: {0}\".format(i))\n",
    "            print(\"Mean validation score: {0:.3f} (std: {1:.3f})\".format(\n",
    "                  results['mean_test_score'][candidate],\n",
    "                  results['std_test_score'][candidate]))\n",
    "            print(\"Parameters: {0}\".format(results['params'][candidate]))\n",
    "            print(\"\")"
   ]
  },
  {
   "cell_type": "code",
   "execution_count": 22,
   "metadata": {},
   "outputs": [],
   "source": [
    "from scipy.stats import uniform, randint\n",
    "from sklearn.model_selection import RandomizedSearchCV\n",
    "\n",
    "\n",
    "params = {\n",
    "    \"max_depth\": randint(5, 8),\n",
    "    \"n_estimators\": randint(60, 80)\n",
    "}\n",
    "\n",
    "search = RandomizedSearchCV(RandomForestRegressor(random_state=42), param_distributions=params, random_state=42, n_iter=100, cv=3, verbose=1, n_jobs=1, return_train_score=True)\n",
    "\n",
    "#search.fit(X_train, y_train)\n",
    "\n",
    "#report_best_scores(search.cv_results_, 3)"
   ]
  },
  {
   "cell_type": "markdown",
   "metadata": {},
   "source": []
  },
  {
   "cell_type": "code",
   "execution_count": 23,
   "metadata": {},
   "outputs": [],
   "source": [
    "forests = [\n",
    "        \n",
    "        RandomForestRegressor(n_estimators=70, max_depth=7, random_state=42), #Best RFR found from manual search\n",
    "        RandomForestRegressor(n_estimators=66, max_depth=5, random_state=42),\n",
    "        RandomForestRegressor(n_estimators=63, max_depth=5, random_state=42),\n",
    "        RandomForestRegressor(n_estimators=66, max_depth=6, random_state=42),\n",
    "        RandomForestRegressor(n_estimators=63, max_depth=6, random_state=42),\n",
    "]"
   ]
  },
  {
   "cell_type": "code",
   "execution_count": 24,
   "metadata": {},
   "outputs": [
    {
     "name": "stdout",
     "output_type": "stream",
     "text": [
      "MSE, lower is better\n",
      "0 0.4537383120839711\n",
      "1 0.45296560016317233\n",
      "2 0.4532628790619486\n",
      "3 0.45344189551594816\n",
      "4 0.4531786420286814\n"
     ]
    }
   ],
   "source": [
    "print(\"MSE, lower is better\")\n",
    "for i in range(len(forests)):\n",
    "    f = forests[i]\n",
    "    f.fit(X_train, y_train)\n",
    "    print(i, 1 - f.score(X_test, y_test))"
   ]
  },
  {
   "cell_type": "markdown",
   "metadata": {},
   "source": [
    "A MSE of .453 when the scale is from 0 to 6 is not too bad considering how few features have been used, and especially since it was reduced from time-series to per-essay. So the best tree-based model we have found is a random forest with a maximum depth of 5 and 66 estimators, based on validation set scores. Let's check the predictions themselves to see what's happening:"
   ]
  },
  {
   "cell_type": "code",
   "execution_count": 25,
   "metadata": {},
   "outputs": [
    {
     "name": "stdout",
     "output_type": "stream",
     "text": [
      "0.5470343998368277\n"
     ]
    }
   ],
   "source": [
    "best_forest = RandomForestRegressor(n_estimators=66, max_depth=5, random_state=42)\n",
    "best_forest.fit(X_train, y_train)\n",
    "forest_preds = best_forest.predict(X_test)\n",
    "print(best_forest.score(X_test, y_test))"
   ]
  },
  {
   "cell_type": "code",
   "execution_count": 26,
   "metadata": {},
   "outputs": [
    {
     "data": {
      "text/plain": [
       "<function matplotlib.pyplot.show(close=None, block=None)>"
      ]
     },
     "execution_count": 26,
     "metadata": {},
     "output_type": "execute_result"
    },
    {
     "data": {
      "image/png": "[encoded data removed]",
      "text/plain": [
       "<Figure size 640x480 with 1 Axes>"
      ]
     },
     "metadata": {},
     "output_type": "display_data"
    }
   ],
   "source": [
    "plt.hist(y_test, color='green', bins=12)\n",
    "plt.hist(forest_preds, color='red', bins=12)\n",
    "plt.show"
   ]
  },
  {
   "cell_type": "markdown",
   "metadata": {},
   "source": [
    "The distribution is not bad, but too narrow and seems to be confused about scores between 3 and 4. Let's see how a ridumentary nerual net performs."
   ]
  },
  {
   "cell_type": "markdown",
   "metadata": {},
   "source": []
  },
  {
   "cell_type": "markdown",
   "metadata": {},
   "source": [
    "# Neural Network Attempts"
   ]
  },
  {
   "cell_type": "code",
   "execution_count": 51,
   "metadata": {},
   "outputs": [],
   "source": [
    "import os\n",
    "import shutil\n",
    "import time\n",
    "import torch\n",
    "import torch.nn as nn\n",
    "import torch.optim as optim\n",
    "torch.use_deterministic_algorithms(True)\n",
    "\n",
    "X_train_t = torch.tensor(X_train.values, dtype=torch.float32)\n",
    "y_train_t = torch.tensor(y_train.values, dtype=torch.float32).view(-1, 1)\n",
    "\n",
    "X_test_t = torch.tensor(X_test.values, dtype=torch.float32)\n",
    "y_test_t = torch.tensor(y_test.values, dtype=torch.float32).view(-1, 1)"
   ]
  },
  {
   "cell_type": "code",
   "execution_count": 77,
   "metadata": {},
   "outputs": [],
   "source": [
    "class Net(nn.Module):\n",
    "    def __init__(self, input_size, hidden_size, output_size):\n",
    "        super(Net, self).__init__()\n",
    "        self.fc1 = nn.Linear(input_size, hidden_size)\n",
    "        self.relu = nn.ReLU()\n",
    "        self.fc2 = nn.Linear(hidden_size, output_size)\n",
    "        self.sigmoid = nn.Sigmoid()\n",
    "\n",
    "    def forward(self, x):\n",
    "        x = self.fc1(x)\n",
    "        x = self.relu(x)\n",
    "        x = self.fc2(x)\n",
    "        x = self.relu(x)\n",
    "        return x\n",
    "    \n",
    "input_size = X_train_t.shape[1]\n",
    "hidden_size = 30\n",
    "output_size = 1\n",
    "learning_rate = 0.1\n",
    "num_epochs =100\n",
    "\n",
    "model = Net(input_size, hidden_size, output_size)\n",
    "criterion = nn.MSELoss()\n",
    "optimizer = optim.SGD(model.parameters(), lr=learning_rate)"
   ]
  },
  {
   "cell_type": "code",
   "execution_count": 78,
   "metadata": {},
   "outputs": [
    {
     "name": "stdout",
     "output_type": "stream",
     "text": [
      "Epoch [10/100], Loss: 1.0126\n",
      "Epoch [20/100], Loss: 0.7239\n",
      "Epoch [30/100], Loss: 0.6674\n",
      "Epoch [40/100], Loss: 0.6401\n",
      "Epoch [50/100], Loss: 0.6227\n",
      "Epoch [60/100], Loss: 0.6151\n",
      "Epoch [70/100], Loss: 0.8202\n",
      "Epoch [80/100], Loss: 0.6538\n",
      "Epoch [90/100], Loss: 0.5959\n",
      "Epoch [100/100], Loss: 0.5858\n",
      "Test Loss: 0.4744\n"
     ]
    }
   ],
   "source": [
    "\n",
    "torch.manual_seed(0)\n",
    "for epoch in range(num_epochs):\n",
    "    model.train()\n",
    "    optimizer.zero_grad()\n",
    "    outputs = model(X_train_t)\n",
    "    loss = criterion(outputs, y_train_t)\n",
    "    loss.backward()\n",
    "    optimizer.step()\n",
    "\n",
    "    if (epoch+1) % 10 == 0:\n",
    "        print(f'Epoch [{epoch+1}/{num_epochs}], Loss: {loss.item():.4f}')\n",
    "\n",
    "model.eval()\n",
    "with torch.no_grad():\n",
    "    predicted = model(X_test_t)\n",
    "    test_loss = criterion(predicted, y_test_t)\n",
    "    print(f'Test Loss: {test_loss.item():.4f}')"
   ]
  },
  {
   "cell_type": "markdown",
   "metadata": {},
   "source": [
    "This isn't bad at all considering it is similar to how a random forest performs. Let's see how adding another layer impacts performance."
   ]
  },
  {
   "cell_type": "code",
   "execution_count": 30,
   "metadata": {},
   "outputs": [],
   "source": [
    "class Net2(nn.Module):\n",
    "    def __init__(self, input_size, hidden_size, hidden_size_2, output_size):\n",
    "        super(Net2, self).__init__()\n",
    "        self.fc1 = nn.Linear(input_size, hidden_size)\n",
    "        self.relu = nn.ReLU()\n",
    "        self.fc2 = nn.Linear(hidden_size, hidden_size_2)\n",
    "        self.fc3 = nn.Linear(hidden_size_2, output_size)\n",
    "        self.sigmoid = nn.Sigmoid()\n",
    "\n",
    "    def forward(self, x):\n",
    "        x = self.fc1(x)\n",
    "        x = self.relu(x)\n",
    "        x = self.fc2(x)\n",
    "        x = self.relu(x)\n",
    "        x = self.fc3(x)\n",
    "        x = self.relu(x)\n",
    "        return x\n",
    "    \n",
    "input_size = X_train_t.shape[1]\n",
    "hidden_size = 30\n",
    "hidden_size_2 = 30\n",
    "output_size = 1\n",
    "learning_rate = 0.01\n",
    "num_epochs = 1000\n",
    "\n",
    "model2 = Net2(input_size, hidden_size, hidden_size_2, output_size)\n",
    "criterion = nn.MSELoss()\n",
    "optimizer = optim.SGD(model.parameters(), lr=learning_rate)\n"
   ]
  },
  {
   "cell_type": "code",
   "execution_count": 31,
   "metadata": {},
   "outputs": [
    {
     "name": "stdout",
     "output_type": "stream",
     "text": [
      "Epoch [10/1000], Loss: 0.5894\n",
      "Epoch [20/1000], Loss: 0.5889\n",
      "Epoch [30/1000], Loss: 0.5885\n",
      "Epoch [40/1000], Loss: 0.5880\n",
      "Epoch [50/1000], Loss: 0.5875\n",
      "Epoch [60/1000], Loss: 0.5871\n",
      "Epoch [70/1000], Loss: 0.5866\n",
      "Epoch [80/1000], Loss: 0.5862\n",
      "Epoch [90/1000], Loss: 0.5858\n",
      "Epoch [100/1000], Loss: 0.5854\n",
      "Epoch [110/1000], Loss: 0.5849\n",
      "Epoch [120/1000], Loss: 0.5845\n",
      "Epoch [130/1000], Loss: 0.5841\n",
      "Epoch [140/1000], Loss: 0.5837\n",
      "Epoch [150/1000], Loss: 0.5833\n",
      "Epoch [160/1000], Loss: 0.5829\n",
      "Epoch [170/1000], Loss: 0.5825\n",
      "Epoch [180/1000], Loss: 0.5821\n",
      "Epoch [190/1000], Loss: 0.5818\n",
      "Epoch [200/1000], Loss: 0.5814\n",
      "Epoch [210/1000], Loss: 0.5810\n",
      "Epoch [220/1000], Loss: 0.5806\n",
      "Epoch [230/1000], Loss: 0.5803\n",
      "Epoch [240/1000], Loss: 0.5799\n",
      "Epoch [250/1000], Loss: 0.5796\n",
      "Epoch [260/1000], Loss: 0.5792\n",
      "Epoch [270/1000], Loss: 0.5789\n",
      "Epoch [280/1000], Loss: 0.5785\n",
      "Epoch [290/1000], Loss: 0.5782\n",
      "Epoch [300/1000], Loss: 0.5778\n",
      "Epoch [310/1000], Loss: 0.5775\n",
      "Epoch [320/1000], Loss: 0.5772\n",
      "Epoch [330/1000], Loss: 0.5769\n",
      "Epoch [340/1000], Loss: 0.5765\n",
      "Epoch [350/1000], Loss: 0.5762\n",
      "Epoch [360/1000], Loss: 0.5759\n",
      "Epoch [370/1000], Loss: 0.5756\n",
      "Epoch [380/1000], Loss: 0.5753\n",
      "Epoch [390/1000], Loss: 0.5750\n",
      "Epoch [400/1000], Loss: 0.5747\n",
      "Epoch [410/1000], Loss: 0.5744\n",
      "Epoch [420/1000], Loss: 0.5740\n",
      "Epoch [430/1000], Loss: 0.5737\n",
      "Epoch [440/1000], Loss: 0.5734\n",
      "Epoch [450/1000], Loss: 0.5731\n",
      "Epoch [460/1000], Loss: 0.5728\n",
      "Epoch [470/1000], Loss: 0.5726\n",
      "Epoch [480/1000], Loss: 0.5723\n",
      "Epoch [490/1000], Loss: 0.5720\n",
      "Epoch [500/1000], Loss: 0.5717\n",
      "Epoch [510/1000], Loss: 0.5714\n",
      "Epoch [520/1000], Loss: 0.5711\n",
      "Epoch [530/1000], Loss: 0.5708\n",
      "Epoch [540/1000], Loss: 0.5705\n",
      "Epoch [550/1000], Loss: 0.5703\n",
      "Epoch [560/1000], Loss: 0.5700\n",
      "Epoch [570/1000], Loss: 0.5697\n",
      "Epoch [580/1000], Loss: 0.5694\n",
      "Epoch [590/1000], Loss: 0.5692\n",
      "Epoch [600/1000], Loss: 0.5689\n",
      "Epoch [610/1000], Loss: 0.5686\n",
      "Epoch [620/1000], Loss: 0.5684\n",
      "Epoch [630/1000], Loss: 0.5681\n",
      "Epoch [640/1000], Loss: 0.5678\n",
      "Epoch [650/1000], Loss: 0.5676\n",
      "Epoch [660/1000], Loss: 0.5673\n",
      "Epoch [670/1000], Loss: 0.5671\n",
      "Epoch [680/1000], Loss: 0.5668\n",
      "Epoch [690/1000], Loss: 0.5666\n",
      "Epoch [700/1000], Loss: 0.5663\n",
      "Epoch [710/1000], Loss: 0.5661\n",
      "Epoch [720/1000], Loss: 0.5658\n",
      "Epoch [730/1000], Loss: 0.5656\n",
      "Epoch [740/1000], Loss: 0.5653\n",
      "Epoch [750/1000], Loss: 0.5651\n",
      "Epoch [760/1000], Loss: 0.5648\n",
      "Epoch [770/1000], Loss: 0.5646\n",
      "Epoch [780/1000], Loss: 0.5643\n",
      "Epoch [790/1000], Loss: 0.5641\n",
      "Epoch [800/1000], Loss: 0.5638\n",
      "Epoch [810/1000], Loss: 0.5636\n",
      "Epoch [820/1000], Loss: 0.5634\n",
      "Epoch [830/1000], Loss: 0.5632\n",
      "Epoch [840/1000], Loss: 0.5629\n",
      "Epoch [850/1000], Loss: 0.5627\n",
      "Epoch [860/1000], Loss: 0.5625\n",
      "Epoch [870/1000], Loss: 0.5623\n",
      "Epoch [880/1000], Loss: 0.5621\n",
      "Epoch [890/1000], Loss: 0.5619\n",
      "Epoch [900/1000], Loss: 0.5616\n",
      "Epoch [910/1000], Loss: 0.5614\n",
      "Epoch [920/1000], Loss: 0.5612\n",
      "Epoch [930/1000], Loss: 0.5610\n",
      "Epoch [940/1000], Loss: 0.5608\n",
      "Epoch [950/1000], Loss: 0.5606\n",
      "Epoch [960/1000], Loss: 0.5605\n",
      "Epoch [970/1000], Loss: 0.5603\n",
      "Epoch [980/1000], Loss: 0.5601\n",
      "Epoch [990/1000], Loss: 0.5599\n",
      "Epoch [1000/1000], Loss: 0.5597\n",
      "Test Loss: 14.0002\n"
     ]
    }
   ],
   "source": [
    "for epoch in range(num_epochs):\n",
    "    model2.train()\n",
    "    optimizer.zero_grad()\n",
    "    outputs = model(X_train_t)\n",
    "    loss = criterion(outputs, y_train_t)\n",
    "    loss.backward()\n",
    "    optimizer.step()\n",
    "\n",
    "    if (epoch+1) % 10 == 0:\n",
    "        print(f'Epoch [{epoch+1}/{num_epochs}], Loss: {loss.item():.4f}')\n",
    "\n",
    "model2.eval()\n",
    "with torch.no_grad():\n",
    "    predicted = model2(X_test_t)\n",
    "    test_loss = criterion(predicted, y_test_t)\n",
    "    print(f'Test Loss: {test_loss.item():.4f}')"
   ]
  }
 ],
 "metadata": {
  "kernelspec": {
   "display_name": "base",
   "language": "python",
   "name": "python3"
  },
  "language_info": {
   "codemirror_mode": {
    "name": "ipython",
    "version": 3
   },
   "file_extension": ".py",
   "mimetype": "text/x-python",
   "name": "python",
   "nbconvert_exporter": "python",
   "pygments_lexer": "ipython3",
   "version": "3.11.4"
  }
 },
 "nbformat": 4,
 "nbformat_minor": 2
}
